{
 "cells": [
  {
   "cell_type": "markdown",
   "metadata": {},
   "source": [
    "# Web-scraping for data collection"
   ]
  },
  {
   "cell_type": "code",
   "execution_count": null,
   "metadata": {},
   "outputs": [],
   "source": [
    "import scrapy\n",
    "from scrapy.crawler import CrawlerProcess\n",
    "\n",
    "class YourSpider(scrapy.Spider):\n",
    "    name = 'spider_one'\n",
    "    \n",
    "    def start_requests(self):\n",
    "        url_start = \"https://www.99.co/singapore/rent\"\n",
    "        yield scrapy.Request(url = url_start, callback = self.parse)\n",
    "\n",
    "    def parse(self, response):\n",
    "        properties =response.xpath(\"//div[@class = '_17qrb WgBDo']\")\n",
    "        \n",
    "        for prop in properties:\n",
    "            title = prop.xpath(\".//div[@class = '_2kH6B']/a/text()\").extract()\n",
    "            detailed_link = prop.xpath(\".//div[@class = '_2kH6B']/a/@href\").extract()\n",
    "            detailed_link_full = \"https://www.99.co\" + detailed_link[0]            \n",
    "            \n",
    "            yield response.follow(url = detailed_link_full,callback = self.parse_details)\n",
    "            \n",
    "        next_url = response.xpath(\"//div[@class = 'SearchPagination']//li[@class= 'next']/a/@href\").extract()\n",
    "        \n",
    "        if next_url:\n",
    "            next_url = \"https://www.99.co\" + next_url[0]\n",
    "\n",
    "            yield response.follow(url = next_url, callback=self.parse)\n",
    "        \n",
    "            \n",
    "    def parse_details(self, response):\n",
    "        price = response.xpath(\"//div[@id = 'price']/h2/text()\").extract()\n",
    "        title = response.xpath(\"//div[@class = '_1p49F']/h1/text()\").extract()\n",
    "        beds_bathroom_size=response.xpath(\"//div[@class = '_3gg1z']/p/text()\").extract()\n",
    "       \n",
    "        location = response.xpath(\"//div[@class = '_1p49F']/p/span/text()\").extract()\n",
    "        \n",
    "        if len(location) == 3:\n",
    "            location_granular = location[2][1:]\n",
    "        else:\n",
    "            location_granular = location[0][1:]\n",
    "        \n",
    "        mid_page_details = response.xpath(\"//div[@class = '_3r4yN XCAFU']/text()\").extract()\n",
    "                \n",
    "        list_of_amenities = response.xpath(\"//div[@class = '_3atmT']/p/text()\").extract()\n",
    "        output_list.append((price[0], title[0], beds_bathroom_size[0],beds_bathroom_size[1], beds_bathroom_size[2],location_granular,\n",
    "                              mid_page_details,list_of_amenities\n",
    "                             ))\n",
    "            \n",
    "            \n",
    "output_list = []\n",
    "process = CrawlerProcess()\n",
    "process.crawl(YourSpider)\n",
    "process.start() "
   ]
  },
  {
   "cell_type": "code",
   "execution_count": 3,
   "metadata": {
    "scrolled": true
   },
   "outputs": [
    {
     "data": {
      "text/plain": [
       "7467"
      ]
     },
     "execution_count": 3,
     "metadata": {},
     "output_type": "execute_result"
    }
   ],
   "source": [
    "len(output_list)"
   ]
  },
  {
   "cell_type": "markdown",
   "metadata": {},
   "source": [
    "#### Over 7000 Apartment postings were scraped with the following details:\n",
    "#### Title of the post\n",
    "#### Monthly charge of the apartment\n",
    "#### Number of beds and bathrooms in the apartment\n",
    "#### Size of the apartment in sqft\n",
    "#### Location of the apartment (District)\n",
    "#### Amenities in the bulding of the apartment\n",
    "#### Other details like whether the apartment is fully furnished, partially furnished or unfurnished"
   ]
  },
  {
   "cell_type": "code",
   "execution_count": 1,
   "metadata": {},
   "outputs": [
    {
     "ename": "NameError",
     "evalue": "name 'output_list' is not defined",
     "output_type": "error",
     "traceback": [
      "\u001b[0;31m---------------------------------------------------------------------------\u001b[0m",
      "\u001b[0;31mNameError\u001b[0m                                 Traceback (most recent call last)",
      "\u001b[0;32m<ipython-input-1-683a53f1227f>\u001b[0m in \u001b[0;36m<module>\u001b[0;34m\u001b[0m\n\u001b[1;32m      1\u001b[0m \u001b[0;32mimport\u001b[0m \u001b[0mpandas\u001b[0m \u001b[0;32mas\u001b[0m \u001b[0mpd\u001b[0m\u001b[0;34m\u001b[0m\u001b[0;34m\u001b[0m\u001b[0m\n\u001b[0;32m----> 2\u001b[0;31m df = pd.DataFrame(output_list, columns = [\"Price per month\", \"Title\", \"Beds\", \"Bathrooms\",\n\u001b[0m\u001b[1;32m      3\u001b[0m                                           \u001b[0;34m\"Size\"\u001b[0m\u001b[0;34m,\u001b[0m\u001b[0;34m\u001b[0m\u001b[0;34m\u001b[0m\u001b[0m\n\u001b[1;32m      4\u001b[0m                                            \"Location\", \"Apartment details\", \"Amenities\"])\n",
      "\u001b[0;31mNameError\u001b[0m: name 'output_list' is not defined"
     ]
    }
   ],
   "source": [
    "import pandas as pd\n",
    "df = pd.DataFrame(output_list, columns = [\"Price per month\", \"Title\", \"Beds\", \"Bathrooms\",\n",
    "                                          \"Size\",\n",
    "                                           \"Location\", \"Apartment details\", \"Amenities\"])\n",
    "\n",
    "# Storing the Scraped data in a Dataframe"
   ]
  },
  {
   "cell_type": "code",
   "execution_count": 6,
   "metadata": {},
   "outputs": [
    {
     "data": {
      "text/html": [
       "<div>\n",
       "<style scoped>\n",
       "    .dataframe tbody tr th:only-of-type {\n",
       "        vertical-align: middle;\n",
       "    }\n",
       "\n",
       "    .dataframe tbody tr th {\n",
       "        vertical-align: top;\n",
       "    }\n",
       "\n",
       "    .dataframe thead th {\n",
       "        text-align: right;\n",
       "    }\n",
       "</style>\n",
       "<table border=\"1\" class=\"dataframe\">\n",
       "  <thead>\n",
       "    <tr style=\"text-align: right;\">\n",
       "      <th></th>\n",
       "      <th>Price per month</th>\n",
       "      <th>Title</th>\n",
       "      <th>Beds</th>\n",
       "      <th>Bathrooms</th>\n",
       "      <th>Size</th>\n",
       "      <th>Location</th>\n",
       "      <th>Apartment details</th>\n",
       "      <th>Amenities</th>\n",
       "    </tr>\n",
       "  </thead>\n",
       "  <tbody>\n",
       "    <tr>\n",
       "      <th>0</th>\n",
       "      <td>$9,000/mo</td>\n",
       "      <td>5 Bed House for Rent in Hillcrest Villa</td>\n",
       "      <td>5 Beds</td>\n",
       "      <td>4 Baths</td>\n",
       "      <td>2,917 sqft (built-up)</td>\n",
       "      <td>Newton / Novena (D11)</td>\n",
       "      <td>[Partial, 2009, 99-year leasehold, 2 mins ago,...</td>\n",
       "      <td>[Clubhouse, Stove, Walk in closet, Oven, Parki...</td>\n",
       "    </tr>\n",
       "    <tr>\n",
       "      <th>1</th>\n",
       "      <td>$3,050/mo</td>\n",
       "      <td>Studio Condo for Rent in Duo Residences / Duo ...</td>\n",
       "      <td>Studio</td>\n",
       "      <td>1 Bath</td>\n",
       "      <td>527 sqft</td>\n",
       "      <td>Beach Road / Bugis / Rochor (D7)</td>\n",
       "      <td>[$5.79 psf, High (31 total), Fully, Sea view, ...</td>\n",
       "      <td>[Function room, Rooftop pool, Jacuzzi, Oven, O...</td>\n",
       "    </tr>\n",
       "    <tr>\n",
       "      <th>2</th>\n",
       "      <td>$3,000/mo</td>\n",
       "      <td>2 Bed Condo for Rent in Regentville</td>\n",
       "      <td>2 Beds</td>\n",
       "      <td>2 Baths</td>\n",
       "      <td>980 sqft</td>\n",
       "      <td>Hougang / Punggol / Sengkang (D19)</td>\n",
       "      <td>[$3.06 psf, Fully, 2000, 99-year leasehold, Co...</td>\n",
       "      <td>[Fun pool, Clubhouse, Renovated, Aircon, Swimm...</td>\n",
       "    </tr>\n",
       "    <tr>\n",
       "      <th>3</th>\n",
       "      <td>$7,000/mo</td>\n",
       "      <td>3 Bed Condo for Rent in 8 St Thomas</td>\n",
       "      <td>3 Beds</td>\n",
       "      <td>2 Baths</td>\n",
       "      <td>1,152 sqft</td>\n",
       "      <td>Orchard / River Valley (D9)</td>\n",
       "      <td>[$6.08 psf, Mid (35 total), Unfurnished, Pool ...</td>\n",
       "      <td>[Fitness corner, Fibre ready, Aircon, Closet, ...</td>\n",
       "    </tr>\n",
       "    <tr>\n",
       "      <th>4</th>\n",
       "      <td>$10,500/mo</td>\n",
       "      <td>5 Bed House for Rent in Greenwood Mews</td>\n",
       "      <td>5 Beds</td>\n",
       "      <td>4 Baths</td>\n",
       "      <td>3,175 sqft (built-up)</td>\n",
       "      <td>Newton / Novena (D11)</td>\n",
       "      <td>[$3.31 psf, $3.31 psf, Partial, 2016, 103-year...</td>\n",
       "      <td>[Bomb shelter, Bathtub, Aircon, Dishwasher, Fr...</td>\n",
       "    </tr>\n",
       "  </tbody>\n",
       "</table>\n",
       "</div>"
      ],
      "text/plain": [
       "  Price per month                                              Title    Beds  \\\n",
       "0       $9,000/mo            5 Bed House for Rent in Hillcrest Villa  5 Beds   \n",
       "1       $3,050/mo  Studio Condo for Rent in Duo Residences / Duo ...  Studio   \n",
       "2       $3,000/mo                2 Bed Condo for Rent in Regentville  2 Beds   \n",
       "3       $7,000/mo                3 Bed Condo for Rent in 8 St Thomas  3 Beds   \n",
       "4      $10,500/mo             5 Bed House for Rent in Greenwood Mews  5 Beds   \n",
       "\n",
       "  Bathrooms                   Size                            Location  \\\n",
       "0   4 Baths  2,917 sqft (built-up)               Newton / Novena (D11)   \n",
       "1    1 Bath               527 sqft    Beach Road / Bugis / Rochor (D7)   \n",
       "2   2 Baths               980 sqft  Hougang / Punggol / Sengkang (D19)   \n",
       "3   2 Baths             1,152 sqft         Orchard / River Valley (D9)   \n",
       "4   4 Baths  3,175 sqft (built-up)               Newton / Novena (D11)   \n",
       "\n",
       "                                   Apartment details  \\\n",
       "0  [Partial, 2009, 99-year leasehold, 2 mins ago,...   \n",
       "1  [$5.79 psf, High (31 total), Fully, Sea view, ...   \n",
       "2  [$3.06 psf, Fully, 2000, 99-year leasehold, Co...   \n",
       "3  [$6.08 psf, Mid (35 total), Unfurnished, Pool ...   \n",
       "4  [$3.31 psf, $3.31 psf, Partial, 2016, 103-year...   \n",
       "\n",
       "                                           Amenities  \n",
       "0  [Clubhouse, Stove, Walk in closet, Oven, Parki...  \n",
       "1  [Function room, Rooftop pool, Jacuzzi, Oven, O...  \n",
       "2  [Fun pool, Clubhouse, Renovated, Aircon, Swimm...  \n",
       "3  [Fitness corner, Fibre ready, Aircon, Closet, ...  \n",
       "4  [Bomb shelter, Bathtub, Aircon, Dishwasher, Fr...  "
      ]
     },
     "execution_count": 6,
     "metadata": {},
     "output_type": "execute_result"
    }
   ],
   "source": [
    "df.head()"
   ]
  },
  {
   "cell_type": "code",
   "execution_count": 546,
   "metadata": {},
   "outputs": [],
   "source": [
    "df.to_csv(\"21 june.csv\")"
   ]
  },
  {
   "cell_type": "markdown",
   "metadata": {},
   "source": [
    "# Data Cleaning and Exploration"
   ]
  },
  {
   "cell_type": "code",
   "execution_count": 1,
   "metadata": {},
   "outputs": [],
   "source": [
    "import pandas as pd\n",
    "df = pd.read_csv(\"21 june.csv\")\n",
    "df = df.drop(\"Unnamed: 0\",1)"
   ]
  },
  {
   "cell_type": "code",
   "execution_count": 2,
   "metadata": {},
   "outputs": [
    {
     "data": {
      "text/plain": [
       "False"
      ]
     },
     "execution_count": 2,
     "metadata": {},
     "output_type": "execute_result"
    }
   ],
   "source": [
    "df[\"Price per month\"].str.extract(r'(/mo)').isnull().values.any()"
   ]
  },
  {
   "cell_type": "markdown",
   "metadata": {},
   "source": [
    "#### All prices are in per month format. There is no instance of price which is yearly or weekly rather than monthly,"
   ]
  },
  {
   "cell_type": "code",
   "execution_count": 3,
   "metadata": {},
   "outputs": [],
   "source": [
    "def remove_comma(x):\n",
    "    if \",\" not in x:\n",
    "        return int(x)\n",
    "    else:\n",
    "        output = \"\"\n",
    "        for ch in x:\n",
    "            if ch != \",\":\n",
    "                output = output+ch\n",
    "        return int(output)\n",
    "    \n",
    "# The function above takes a string as input and returns the string with all commas deleted (if any)"
   ]
  },
  {
   "cell_type": "code",
   "execution_count": 4,
   "metadata": {},
   "outputs": [],
   "source": [
    "df[\"Price per month\"] =df[\"Price per month\"].str.extract(r'([0-9,]+)') # Extracing all digits and commas from price\n",
    "df[\"Price per month\"] =df[\"Price per month\"].map(remove_comma) # Removing commas from price"
   ]
  },
  {
   "cell_type": "code",
   "execution_count": 5,
   "metadata": {
    "scrolled": true
   },
   "outputs": [
    {
     "data": {
      "text/plain": [
       "0"
      ]
     },
     "execution_count": 5,
     "metadata": {},
     "output_type": "execute_result"
    }
   ],
   "source": [
    "df[\"Price per month\"].isnull().sum()"
   ]
  },
  {
   "cell_type": "code",
   "execution_count": 6,
   "metadata": {},
   "outputs": [],
   "source": [
    "df[\"Beds\"] =df[\"Beds\"].str.extract(r'(\\d+) Bed') \n",
    "df[\"Bathrooms\"] =df[\"Bathrooms\"].str.extract(r'(\\d+) Bath')\n",
    "df[\"Size\"] = df[\"Size\"].str.extract(r'(\\S+) sqft')\n",
    "# Extracting digits for Beds, Bathrooms and Size\n",
    "df[\"Size\"] =df[\"Size\"].map(remove_comma)"
   ]
  },
  {
   "cell_type": "code",
   "execution_count": 7,
   "metadata": {},
   "outputs": [],
   "source": [
    "df[\"Gym\"] = df['Amenities'].map(lambda x: \"yes\" if 'Gym' in x else \"no\")\n",
    "df[\"Swimming Pool\"] = df['Amenities'].map(lambda x: \"yes\" if 'Swimming pool' in x else \"no\")"
   ]
  },
  {
   "cell_type": "markdown",
   "metadata": {},
   "source": [
    "#### Drawing on my experience in apartment-hunting, Gym and Swimming Pool are the most import amenities which property seekers look for. As such, I have created Binary Variables for both presence of Gym and presence of Swimming pool using the list of amenities."
   ]
  },
  {
   "cell_type": "code",
   "execution_count": 8,
   "metadata": {},
   "outputs": [
    {
     "data": {
      "text/html": [
       "<div>\n",
       "<style scoped>\n",
       "    .dataframe tbody tr th:only-of-type {\n",
       "        vertical-align: middle;\n",
       "    }\n",
       "\n",
       "    .dataframe tbody tr th {\n",
       "        vertical-align: top;\n",
       "    }\n",
       "\n",
       "    .dataframe thead th {\n",
       "        text-align: right;\n",
       "    }\n",
       "</style>\n",
       "<table border=\"1\" class=\"dataframe\">\n",
       "  <thead>\n",
       "    <tr style=\"text-align: right;\">\n",
       "      <th></th>\n",
       "      <th>Price per month</th>\n",
       "      <th>Title</th>\n",
       "      <th>Beds</th>\n",
       "      <th>Bathrooms</th>\n",
       "      <th>Size</th>\n",
       "      <th>Location</th>\n",
       "      <th>Apartment details</th>\n",
       "      <th>Amenities</th>\n",
       "      <th>Gym</th>\n",
       "      <th>Swimming Pool</th>\n",
       "    </tr>\n",
       "  </thead>\n",
       "  <tbody>\n",
       "    <tr>\n",
       "      <th>0</th>\n",
       "      <td>12000</td>\n",
       "      <td>3 Bed Condo for Rent in 3 Orchard By-The-Park</td>\n",
       "      <td>3</td>\n",
       "      <td>3</td>\n",
       "      <td>1862</td>\n",
       "      <td>Tanglin / Holland (D10)</td>\n",
       "      <td>['$6.44 psf', 'High (25 total)', 'Partial', 'G...</td>\n",
       "      <td>['Lounge', 'Pool deck', 'Pavilion', 'Security'...</td>\n",
       "      <td>yes</td>\n",
       "      <td>yes</td>\n",
       "    </tr>\n",
       "    <tr>\n",
       "      <th>1</th>\n",
       "      <td>3850</td>\n",
       "      <td>2 Bed Condo for Rent in Park Place Residences ...</td>\n",
       "      <td>2</td>\n",
       "      <td>2</td>\n",
       "      <td>678</td>\n",
       "      <td>Eunos / Geylang / Paya Lebar (D14)</td>\n",
       "      <td>['$5.68 psf', 'High (17 total)', 'Fully', 'Cit...</td>\n",
       "      <td>['City view', 'Patio / pes', 'Renovated', 'Air...</td>\n",
       "      <td>no</td>\n",
       "      <td>no</td>\n",
       "    </tr>\n",
       "    <tr>\n",
       "      <th>2</th>\n",
       "      <td>12200</td>\n",
       "      <td>4 Bed Condo for Rent in Skyline @ Orchard Boul...</td>\n",
       "      <td>4</td>\n",
       "      <td>3</td>\n",
       "      <td>2067</td>\n",
       "      <td>Orchard / River Valley (D9)</td>\n",
       "      <td>['$5.9 psf', 'High (33 total)', 'Unfurnished',...</td>\n",
       "      <td>['Clubhouse', 'City view', 'Bathtub', 'Renovat...</td>\n",
       "      <td>no</td>\n",
       "      <td>yes</td>\n",
       "    </tr>\n",
       "    <tr>\n",
       "      <th>3</th>\n",
       "      <td>8900</td>\n",
       "      <td>4 Bed Condo for Rent in Rosevale</td>\n",
       "      <td>4</td>\n",
       "      <td>3</td>\n",
       "      <td>2615</td>\n",
       "      <td>Newton / Novena (D11)</td>\n",
       "      <td>['$3.4 psf', 'Partial', '2003', 'Freehold', 'A...</td>\n",
       "      <td>['Aircon', 'Gym', 'Pool deck', 'Swimming pool'...</td>\n",
       "      <td>yes</td>\n",
       "      <td>yes</td>\n",
       "    </tr>\n",
       "    <tr>\n",
       "      <th>4</th>\n",
       "      <td>7000</td>\n",
       "      <td>3 Bed Condo for Rent in 8 St Thomas</td>\n",
       "      <td>3</td>\n",
       "      <td>2</td>\n",
       "      <td>1152</td>\n",
       "      <td>Orchard / River Valley (D9)</td>\n",
       "      <td>['$6.08 psf', 'Mid (35 total)', 'Unfurnished',...</td>\n",
       "      <td>['Fitness corner', 'Fibre ready', 'Aircon', 'C...</td>\n",
       "      <td>yes</td>\n",
       "      <td>no</td>\n",
       "    </tr>\n",
       "  </tbody>\n",
       "</table>\n",
       "</div>"
      ],
      "text/plain": [
       "   Price per month                                              Title Beds  \\\n",
       "0            12000      3 Bed Condo for Rent in 3 Orchard By-The-Park    3   \n",
       "1             3850  2 Bed Condo for Rent in Park Place Residences ...    2   \n",
       "2            12200  4 Bed Condo for Rent in Skyline @ Orchard Boul...    4   \n",
       "3             8900                   4 Bed Condo for Rent in Rosevale    4   \n",
       "4             7000                3 Bed Condo for Rent in 8 St Thomas    3   \n",
       "\n",
       "  Bathrooms  Size                            Location  \\\n",
       "0         3  1862             Tanglin / Holland (D10)   \n",
       "1         2   678  Eunos / Geylang / Paya Lebar (D14)   \n",
       "2         3  2067         Orchard / River Valley (D9)   \n",
       "3         3  2615               Newton / Novena (D11)   \n",
       "4         2  1152         Orchard / River Valley (D9)   \n",
       "\n",
       "                                   Apartment details  \\\n",
       "0  ['$6.44 psf', 'High (25 total)', 'Partial', 'G...   \n",
       "1  ['$5.68 psf', 'High (17 total)', 'Fully', 'Cit...   \n",
       "2  ['$5.9 psf', 'High (33 total)', 'Unfurnished',...   \n",
       "3  ['$3.4 psf', 'Partial', '2003', 'Freehold', 'A...   \n",
       "4  ['$6.08 psf', 'Mid (35 total)', 'Unfurnished',...   \n",
       "\n",
       "                                           Amenities  Gym Swimming Pool  \n",
       "0  ['Lounge', 'Pool deck', 'Pavilion', 'Security'...  yes           yes  \n",
       "1  ['City view', 'Patio / pes', 'Renovated', 'Air...   no            no  \n",
       "2  ['Clubhouse', 'City view', 'Bathtub', 'Renovat...   no           yes  \n",
       "3  ['Aircon', 'Gym', 'Pool deck', 'Swimming pool'...  yes           yes  \n",
       "4  ['Fitness corner', 'Fibre ready', 'Aircon', 'C...  yes            no  "
      ]
     },
     "execution_count": 8,
     "metadata": {},
     "output_type": "execute_result"
    }
   ],
   "source": [
    "df.head()"
   ]
  },
  {
   "cell_type": "code",
   "execution_count": 9,
   "metadata": {},
   "outputs": [],
   "source": [
    "def furnishing(detail_string):\n",
    "    if \"Fully\" in detail_string:\n",
    "        return \"Fully\"\n",
    "    elif \"Partial\" in detail_string:\n",
    "        return \"Fully\"\n",
    "    elif \"Unfurnished\" in detail_string:\n",
    "        return \"Unfurnished\"\n",
    "    return None\n",
    "\n",
    "# The function above extracts details regarding furnishing from the 'Apartment details' column"
   ]
  },
  {
   "cell_type": "code",
   "execution_count": 10,
   "metadata": {},
   "outputs": [],
   "source": [
    "df[\"Furnishing\"]= df[\"Apartment details\"].map(furnishing)"
   ]
  },
  {
   "cell_type": "code",
   "execution_count": 11,
   "metadata": {},
   "outputs": [],
   "source": [
    "df = df.drop([\"Amenities\",\"Apartment details\"],1) # Dropping these columns since all useful info has already been stored in other columns"
   ]
  },
  {
   "cell_type": "code",
   "execution_count": 12,
   "metadata": {
    "scrolled": false
   },
   "outputs": [
    {
     "name": "stdout",
     "output_type": "stream",
     "text": [
      "<class 'pandas.core.frame.DataFrame'>\n",
      "RangeIndex: 7461 entries, 0 to 7460\n",
      "Data columns (total 9 columns):\n",
      " #   Column           Non-Null Count  Dtype \n",
      "---  ------           --------------  ----- \n",
      " 0   Price per month  7461 non-null   int64 \n",
      " 1   Title            7461 non-null   object\n",
      " 2   Beds             7138 non-null   object\n",
      " 3   Bathrooms        7435 non-null   object\n",
      " 4   Size             7461 non-null   int64 \n",
      " 5   Location         7461 non-null   object\n",
      " 6   Gym              7461 non-null   object\n",
      " 7   Swimming Pool    7461 non-null   object\n",
      " 8   Furnishing       3246 non-null   object\n",
      "dtypes: int64(2), object(7)\n",
      "memory usage: 524.7+ KB\n"
     ]
    }
   ],
   "source": [
    "df.info()"
   ]
  },
  {
   "cell_type": "markdown",
   "metadata": {},
   "source": [
    "#### 'Furnishing' has a lot of null values. This is because of its absence in a lot of apartment postings. The column will be dropped.\n",
    "\n",
    "#### 'Beds' has a lot of null values because a lot of postings were that of 'Studio apartments' which do not list the number of beds individually. This column will be dropped as Studio apartments are very different (in terms of price too) from normal apartments which is the focus of this project."
   ]
  },
  {
   "cell_type": "code",
   "execution_count": 13,
   "metadata": {},
   "outputs": [],
   "source": [
    "df=df.drop(\"Furnishing\",1)\n",
    "df = df.dropna()"
   ]
  },
  {
   "cell_type": "code",
   "execution_count": 14,
   "metadata": {},
   "outputs": [],
   "source": [
    "df[\"Beds\"] = df[\"Beds\"].astype(int)\n",
    "df[\"Bathrooms\"] = df[\"Bathrooms\"].astype(int)"
   ]
  },
  {
   "cell_type": "code",
   "execution_count": 15,
   "metadata": {},
   "outputs": [
    {
     "data": {
      "text/html": [
       "<div>\n",
       "<style scoped>\n",
       "    .dataframe tbody tr th:only-of-type {\n",
       "        vertical-align: middle;\n",
       "    }\n",
       "\n",
       "    .dataframe tbody tr th {\n",
       "        vertical-align: top;\n",
       "    }\n",
       "\n",
       "    .dataframe thead th {\n",
       "        text-align: right;\n",
       "    }\n",
       "</style>\n",
       "<table border=\"1\" class=\"dataframe\">\n",
       "  <thead>\n",
       "    <tr style=\"text-align: right;\">\n",
       "      <th></th>\n",
       "      <th>Price per month</th>\n",
       "      <th>Title</th>\n",
       "      <th>Beds</th>\n",
       "      <th>Bathrooms</th>\n",
       "      <th>Size</th>\n",
       "      <th>Location</th>\n",
       "      <th>Gym</th>\n",
       "      <th>Swimming Pool</th>\n",
       "    </tr>\n",
       "  </thead>\n",
       "  <tbody>\n",
       "    <tr>\n",
       "      <th>0</th>\n",
       "      <td>12000</td>\n",
       "      <td>3 Bed Condo for Rent in 3 Orchard By-The-Park</td>\n",
       "      <td>3</td>\n",
       "      <td>3</td>\n",
       "      <td>1862</td>\n",
       "      <td>Tanglin / Holland (D10)</td>\n",
       "      <td>yes</td>\n",
       "      <td>yes</td>\n",
       "    </tr>\n",
       "    <tr>\n",
       "      <th>1</th>\n",
       "      <td>3850</td>\n",
       "      <td>2 Bed Condo for Rent in Park Place Residences ...</td>\n",
       "      <td>2</td>\n",
       "      <td>2</td>\n",
       "      <td>678</td>\n",
       "      <td>Eunos / Geylang / Paya Lebar (D14)</td>\n",
       "      <td>no</td>\n",
       "      <td>no</td>\n",
       "    </tr>\n",
       "    <tr>\n",
       "      <th>2</th>\n",
       "      <td>12200</td>\n",
       "      <td>4 Bed Condo for Rent in Skyline @ Orchard Boul...</td>\n",
       "      <td>4</td>\n",
       "      <td>3</td>\n",
       "      <td>2067</td>\n",
       "      <td>Orchard / River Valley (D9)</td>\n",
       "      <td>no</td>\n",
       "      <td>yes</td>\n",
       "    </tr>\n",
       "    <tr>\n",
       "      <th>3</th>\n",
       "      <td>8900</td>\n",
       "      <td>4 Bed Condo for Rent in Rosevale</td>\n",
       "      <td>4</td>\n",
       "      <td>3</td>\n",
       "      <td>2615</td>\n",
       "      <td>Newton / Novena (D11)</td>\n",
       "      <td>yes</td>\n",
       "      <td>yes</td>\n",
       "    </tr>\n",
       "    <tr>\n",
       "      <th>4</th>\n",
       "      <td>7000</td>\n",
       "      <td>3 Bed Condo for Rent in 8 St Thomas</td>\n",
       "      <td>3</td>\n",
       "      <td>2</td>\n",
       "      <td>1152</td>\n",
       "      <td>Orchard / River Valley (D9)</td>\n",
       "      <td>yes</td>\n",
       "      <td>no</td>\n",
       "    </tr>\n",
       "  </tbody>\n",
       "</table>\n",
       "</div>"
      ],
      "text/plain": [
       "   Price per month                                              Title  Beds  \\\n",
       "0            12000      3 Bed Condo for Rent in 3 Orchard By-The-Park     3   \n",
       "1             3850  2 Bed Condo for Rent in Park Place Residences ...     2   \n",
       "2            12200  4 Bed Condo for Rent in Skyline @ Orchard Boul...     4   \n",
       "3             8900                   4 Bed Condo for Rent in Rosevale     4   \n",
       "4             7000                3 Bed Condo for Rent in 8 St Thomas     3   \n",
       "\n",
       "   Bathrooms  Size                            Location  Gym Swimming Pool  \n",
       "0          3  1862             Tanglin / Holland (D10)  yes           yes  \n",
       "1          2   678  Eunos / Geylang / Paya Lebar (D14)   no            no  \n",
       "2          3  2067         Orchard / River Valley (D9)   no           yes  \n",
       "3          3  2615               Newton / Novena (D11)  yes           yes  \n",
       "4          2  1152         Orchard / River Valley (D9)  yes            no  "
      ]
     },
     "execution_count": 15,
     "metadata": {},
     "output_type": "execute_result"
    }
   ],
   "source": [
    "df.head()"
   ]
  },
  {
   "cell_type": "code",
   "execution_count": 16,
   "metadata": {},
   "outputs": [],
   "source": [
    "from matplotlib import pyplot as plt\n",
    "import numpy as np\n",
    "import seaborn as sns\n",
    "sns.set()"
   ]
  },
  {
   "cell_type": "code",
   "execution_count": 17,
   "metadata": {},
   "outputs": [
    {
     "data": {
      "text/html": [
       "<div>\n",
       "<style scoped>\n",
       "    .dataframe tbody tr th:only-of-type {\n",
       "        vertical-align: middle;\n",
       "    }\n",
       "\n",
       "    .dataframe tbody tr th {\n",
       "        vertical-align: top;\n",
       "    }\n",
       "\n",
       "    .dataframe thead th {\n",
       "        text-align: right;\n",
       "    }\n",
       "</style>\n",
       "<table border=\"1\" class=\"dataframe\">\n",
       "  <thead>\n",
       "    <tr style=\"text-align: right;\">\n",
       "      <th></th>\n",
       "      <th>Price per month</th>\n",
       "      <th>Beds</th>\n",
       "      <th>Bathrooms</th>\n",
       "      <th>Size</th>\n",
       "    </tr>\n",
       "  </thead>\n",
       "  <tbody>\n",
       "    <tr>\n",
       "      <th>count</th>\n",
       "      <td>7113.000000</td>\n",
       "      <td>7113.000000</td>\n",
       "      <td>7113.000000</td>\n",
       "      <td>7113.000000</td>\n",
       "    </tr>\n",
       "    <tr>\n",
       "      <th>mean</th>\n",
       "      <td>6131.734008</td>\n",
       "      <td>2.523127</td>\n",
       "      <td>2.342050</td>\n",
       "      <td>1525.852805</td>\n",
       "    </tr>\n",
       "    <tr>\n",
       "      <th>std</th>\n",
       "      <td>5773.694870</td>\n",
       "      <td>1.292470</td>\n",
       "      <td>1.312353</td>\n",
       "      <td>1509.093761</td>\n",
       "    </tr>\n",
       "    <tr>\n",
       "      <th>min</th>\n",
       "      <td>450.000000</td>\n",
       "      <td>1.000000</td>\n",
       "      <td>1.000000</td>\n",
       "      <td>0.000000</td>\n",
       "    </tr>\n",
       "    <tr>\n",
       "      <th>25%</th>\n",
       "      <td>3200.000000</td>\n",
       "      <td>2.000000</td>\n",
       "      <td>1.000000</td>\n",
       "      <td>700.000000</td>\n",
       "    </tr>\n",
       "    <tr>\n",
       "      <th>50%</th>\n",
       "      <td>4400.000000</td>\n",
       "      <td>2.000000</td>\n",
       "      <td>2.000000</td>\n",
       "      <td>1044.000000</td>\n",
       "    </tr>\n",
       "    <tr>\n",
       "      <th>75%</th>\n",
       "      <td>7000.000000</td>\n",
       "      <td>3.000000</td>\n",
       "      <td>3.000000</td>\n",
       "      <td>1701.000000</td>\n",
       "    </tr>\n",
       "    <tr>\n",
       "      <th>max</th>\n",
       "      <td>125000.000000</td>\n",
       "      <td>10.000000</td>\n",
       "      <td>10.000000</td>\n",
       "      <td>24503.000000</td>\n",
       "    </tr>\n",
       "  </tbody>\n",
       "</table>\n",
       "</div>"
      ],
      "text/plain": [
       "       Price per month         Beds    Bathrooms          Size\n",
       "count      7113.000000  7113.000000  7113.000000   7113.000000\n",
       "mean       6131.734008     2.523127     2.342050   1525.852805\n",
       "std        5773.694870     1.292470     1.312353   1509.093761\n",
       "min         450.000000     1.000000     1.000000      0.000000\n",
       "25%        3200.000000     2.000000     1.000000    700.000000\n",
       "50%        4400.000000     2.000000     2.000000   1044.000000\n",
       "75%        7000.000000     3.000000     3.000000   1701.000000\n",
       "max      125000.000000    10.000000    10.000000  24503.000000"
      ]
     },
     "execution_count": 17,
     "metadata": {},
     "output_type": "execute_result"
    }
   ],
   "source": [
    "df.describe()"
   ]
  },
  {
   "cell_type": "code",
   "execution_count": 18,
   "metadata": {
    "scrolled": true
   },
   "outputs": [
    {
     "data": {
      "text/html": [
       "<div>\n",
       "<style scoped>\n",
       "    .dataframe tbody tr th:only-of-type {\n",
       "        vertical-align: middle;\n",
       "    }\n",
       "\n",
       "    .dataframe tbody tr th {\n",
       "        vertical-align: top;\n",
       "    }\n",
       "\n",
       "    .dataframe thead th {\n",
       "        text-align: right;\n",
       "    }\n",
       "</style>\n",
       "<table border=\"1\" class=\"dataframe\">\n",
       "  <thead>\n",
       "    <tr style=\"text-align: right;\">\n",
       "      <th></th>\n",
       "      <th>Price per month</th>\n",
       "      <th>Title</th>\n",
       "      <th>Beds</th>\n",
       "      <th>Bathrooms</th>\n",
       "      <th>Size</th>\n",
       "      <th>Location</th>\n",
       "      <th>Gym</th>\n",
       "      <th>Swimming Pool</th>\n",
       "    </tr>\n",
       "  </thead>\n",
       "  <tbody>\n",
       "    <tr>\n",
       "      <th>0</th>\n",
       "      <td>12000</td>\n",
       "      <td>3 Bed Condo for Rent in 3 Orchard By-The-Park</td>\n",
       "      <td>3</td>\n",
       "      <td>3</td>\n",
       "      <td>1862</td>\n",
       "      <td>Tanglin / Holland (D10)</td>\n",
       "      <td>yes</td>\n",
       "      <td>yes</td>\n",
       "    </tr>\n",
       "    <tr>\n",
       "      <th>1</th>\n",
       "      <td>3850</td>\n",
       "      <td>2 Bed Condo for Rent in Park Place Residences ...</td>\n",
       "      <td>2</td>\n",
       "      <td>2</td>\n",
       "      <td>678</td>\n",
       "      <td>Eunos / Geylang / Paya Lebar (D14)</td>\n",
       "      <td>no</td>\n",
       "      <td>no</td>\n",
       "    </tr>\n",
       "    <tr>\n",
       "      <th>2</th>\n",
       "      <td>12200</td>\n",
       "      <td>4 Bed Condo for Rent in Skyline @ Orchard Boul...</td>\n",
       "      <td>4</td>\n",
       "      <td>3</td>\n",
       "      <td>2067</td>\n",
       "      <td>Orchard / River Valley (D9)</td>\n",
       "      <td>no</td>\n",
       "      <td>yes</td>\n",
       "    </tr>\n",
       "    <tr>\n",
       "      <th>3</th>\n",
       "      <td>8900</td>\n",
       "      <td>4 Bed Condo for Rent in Rosevale</td>\n",
       "      <td>4</td>\n",
       "      <td>3</td>\n",
       "      <td>2615</td>\n",
       "      <td>Newton / Novena (D11)</td>\n",
       "      <td>yes</td>\n",
       "      <td>yes</td>\n",
       "    </tr>\n",
       "    <tr>\n",
       "      <th>4</th>\n",
       "      <td>7000</td>\n",
       "      <td>3 Bed Condo for Rent in 8 St Thomas</td>\n",
       "      <td>3</td>\n",
       "      <td>2</td>\n",
       "      <td>1152</td>\n",
       "      <td>Orchard / River Valley (D9)</td>\n",
       "      <td>yes</td>\n",
       "      <td>no</td>\n",
       "    </tr>\n",
       "  </tbody>\n",
       "</table>\n",
       "</div>"
      ],
      "text/plain": [
       "   Price per month                                              Title  Beds  \\\n",
       "0            12000      3 Bed Condo for Rent in 3 Orchard By-The-Park     3   \n",
       "1             3850  2 Bed Condo for Rent in Park Place Residences ...     2   \n",
       "2            12200  4 Bed Condo for Rent in Skyline @ Orchard Boul...     4   \n",
       "3             8900                   4 Bed Condo for Rent in Rosevale     4   \n",
       "4             7000                3 Bed Condo for Rent in 8 St Thomas     3   \n",
       "\n",
       "   Bathrooms  Size                            Location  Gym Swimming Pool  \n",
       "0          3  1862             Tanglin / Holland (D10)  yes           yes  \n",
       "1          2   678  Eunos / Geylang / Paya Lebar (D14)   no            no  \n",
       "2          3  2067         Orchard / River Valley (D9)   no           yes  \n",
       "3          3  2615               Newton / Novena (D11)  yes           yes  \n",
       "4          2  1152         Orchard / River Valley (D9)  yes            no  "
      ]
     },
     "execution_count": 18,
     "metadata": {},
     "output_type": "execute_result"
    }
   ],
   "source": [
    "df.head()"
   ]
  },
  {
   "cell_type": "code",
   "execution_count": 19,
   "metadata": {},
   "outputs": [
    {
     "data": {
      "text/html": [
       "<div>\n",
       "<style scoped>\n",
       "    .dataframe tbody tr th:only-of-type {\n",
       "        vertical-align: middle;\n",
       "    }\n",
       "\n",
       "    .dataframe tbody tr th {\n",
       "        vertical-align: top;\n",
       "    }\n",
       "\n",
       "    .dataframe thead th {\n",
       "        text-align: right;\n",
       "    }\n",
       "</style>\n",
       "<table border=\"1\" class=\"dataframe\">\n",
       "  <thead>\n",
       "    <tr style=\"text-align: right;\">\n",
       "      <th></th>\n",
       "      <th>Price per month</th>\n",
       "      <th>Beds</th>\n",
       "      <th>Bathrooms</th>\n",
       "      <th>Size</th>\n",
       "    </tr>\n",
       "    <tr>\n",
       "      <th>Gym</th>\n",
       "      <th></th>\n",
       "      <th></th>\n",
       "      <th></th>\n",
       "      <th></th>\n",
       "    </tr>\n",
       "  </thead>\n",
       "  <tbody>\n",
       "    <tr>\n",
       "      <th>no</th>\n",
       "      <td>6972.974843</td>\n",
       "      <td>2.972597</td>\n",
       "      <td>2.676101</td>\n",
       "      <td>2069.825247</td>\n",
       "    </tr>\n",
       "    <tr>\n",
       "      <th>yes</th>\n",
       "      <td>5748.553714</td>\n",
       "      <td>2.318396</td>\n",
       "      <td>2.189892</td>\n",
       "      <td>1278.076530</td>\n",
       "    </tr>\n",
       "  </tbody>\n",
       "</table>\n",
       "</div>"
      ],
      "text/plain": [
       "     Price per month      Beds  Bathrooms         Size\n",
       "Gym                                                   \n",
       "no       6972.974843  2.972597   2.676101  2069.825247\n",
       "yes      5748.553714  2.318396   2.189892  1278.076530"
      ]
     },
     "execution_count": 19,
     "metadata": {},
     "output_type": "execute_result"
    }
   ],
   "source": [
    "df.groupby('Gym').mean()"
   ]
  },
  {
   "cell_type": "code",
   "execution_count": 20,
   "metadata": {},
   "outputs": [
    {
     "data": {
      "text/html": [
       "<div>\n",
       "<style scoped>\n",
       "    .dataframe tbody tr th:only-of-type {\n",
       "        vertical-align: middle;\n",
       "    }\n",
       "\n",
       "    .dataframe tbody tr th {\n",
       "        vertical-align: top;\n",
       "    }\n",
       "\n",
       "    .dataframe thead th {\n",
       "        text-align: right;\n",
       "    }\n",
       "</style>\n",
       "<table border=\"1\" class=\"dataframe\">\n",
       "  <thead>\n",
       "    <tr style=\"text-align: right;\">\n",
       "      <th></th>\n",
       "      <th>Price per month</th>\n",
       "      <th>Beds</th>\n",
       "      <th>Bathrooms</th>\n",
       "      <th>Size</th>\n",
       "    </tr>\n",
       "    <tr>\n",
       "      <th>Swimming Pool</th>\n",
       "      <th></th>\n",
       "      <th></th>\n",
       "      <th></th>\n",
       "      <th></th>\n",
       "    </tr>\n",
       "  </thead>\n",
       "  <tbody>\n",
       "    <tr>\n",
       "      <th>no</th>\n",
       "      <td>6517.338953</td>\n",
       "      <td>2.585756</td>\n",
       "      <td>2.354651</td>\n",
       "      <td>1664.195349</td>\n",
       "    </tr>\n",
       "    <tr>\n",
       "      <th>yes</th>\n",
       "      <td>5770.590253</td>\n",
       "      <td>2.464470</td>\n",
       "      <td>2.330248</td>\n",
       "      <td>1396.286142</td>\n",
       "    </tr>\n",
       "  </tbody>\n",
       "</table>\n",
       "</div>"
      ],
      "text/plain": [
       "               Price per month      Beds  Bathrooms         Size\n",
       "Swimming Pool                                                   \n",
       "no                 6517.338953  2.585756   2.354651  1664.195349\n",
       "yes                5770.590253  2.464470   2.330248  1396.286142"
      ]
     },
     "execution_count": 20,
     "metadata": {},
     "output_type": "execute_result"
    }
   ],
   "source": [
    "df.groupby('Swimming Pool').mean()"
   ]
  },
  {
   "cell_type": "markdown",
   "metadata": {},
   "source": [
    "#### Strangely, the data tells us that places lacking Gyms and Swimming Pools cost more at an average than apartments with them"
   ]
  },
  {
   "cell_type": "code",
   "execution_count": 21,
   "metadata": {},
   "outputs": [
    {
     "data": {
      "text/plain": [
       "count      7113.000000\n",
       "mean       6131.734008\n",
       "std        5773.694870\n",
       "min         450.000000\n",
       "25%        3200.000000\n",
       "50%        4400.000000\n",
       "75%        7000.000000\n",
       "max      125000.000000\n",
       "Name: Price per month, dtype: float64"
      ]
     },
     "execution_count": 21,
     "metadata": {},
     "output_type": "execute_result"
    }
   ],
   "source": [
    "df[\"Price per month\"].describe()"
   ]
  },
  {
   "cell_type": "code",
   "execution_count": 22,
   "metadata": {
    "scrolled": true
   },
   "outputs": [
    {
     "data": {
      "text/html": [
       "<div>\n",
       "<style scoped>\n",
       "    .dataframe tbody tr th:only-of-type {\n",
       "        vertical-align: middle;\n",
       "    }\n",
       "\n",
       "    .dataframe tbody tr th {\n",
       "        vertical-align: top;\n",
       "    }\n",
       "\n",
       "    .dataframe thead th {\n",
       "        text-align: right;\n",
       "    }\n",
       "</style>\n",
       "<table border=\"1\" class=\"dataframe\">\n",
       "  <thead>\n",
       "    <tr style=\"text-align: right;\">\n",
       "      <th></th>\n",
       "      <th>Price per month</th>\n",
       "      <th>Title</th>\n",
       "      <th>Beds</th>\n",
       "      <th>Bathrooms</th>\n",
       "      <th>Size</th>\n",
       "      <th>Location</th>\n",
       "      <th>Gym</th>\n",
       "      <th>Swimming Pool</th>\n",
       "    </tr>\n",
       "  </thead>\n",
       "  <tbody>\n",
       "    <tr>\n",
       "      <th>1706</th>\n",
       "      <td>125000</td>\n",
       "      <td>5 Bed House for Rent in Gallop Park Road</td>\n",
       "      <td>5</td>\n",
       "      <td>7</td>\n",
       "      <td>12000</td>\n",
       "      <td>Tanglin / Holland (D10)</td>\n",
       "      <td>no</td>\n",
       "      <td>no</td>\n",
       "    </tr>\n",
       "    <tr>\n",
       "      <th>3505</th>\n",
       "      <td>125000</td>\n",
       "      <td>5 Bed House for Rent in Ladyhill Park</td>\n",
       "      <td>5</td>\n",
       "      <td>6</td>\n",
       "      <td>12000</td>\n",
       "      <td>Tanglin / Holland (D10)</td>\n",
       "      <td>no</td>\n",
       "      <td>yes</td>\n",
       "    </tr>\n",
       "    <tr>\n",
       "      <th>3868</th>\n",
       "      <td>125000</td>\n",
       "      <td>6 Bed House for Rent in Nassim Road</td>\n",
       "      <td>6</td>\n",
       "      <td>8</td>\n",
       "      <td>13000</td>\n",
       "      <td>Tanglin / Holland (D10)</td>\n",
       "      <td>no</td>\n",
       "      <td>no</td>\n",
       "    </tr>\n",
       "  </tbody>\n",
       "</table>\n",
       "</div>"
      ],
      "text/plain": [
       "      Price per month                                     Title  Beds  \\\n",
       "1706           125000  5 Bed House for Rent in Gallop Park Road     5   \n",
       "3505           125000     5 Bed House for Rent in Ladyhill Park     5   \n",
       "3868           125000       6 Bed House for Rent in Nassim Road     6   \n",
       "\n",
       "      Bathrooms   Size                 Location Gym Swimming Pool  \n",
       "1706          7  12000  Tanglin / Holland (D10)  no            no  \n",
       "3505          6  12000  Tanglin / Holland (D10)  no           yes  \n",
       "3868          8  13000  Tanglin / Holland (D10)  no            no  "
      ]
     },
     "execution_count": 22,
     "metadata": {},
     "output_type": "execute_result"
    }
   ],
   "source": [
    "df[df[\"Price per month\"] ==125000]"
   ]
  },
  {
   "cell_type": "markdown",
   "metadata": {},
   "source": [
    "#### The dataset consists of a few houses which have a very high value, and are usually without these amenities. These houses are confounding the effect of amenities (and perhaps even location as central parts of Singapore do not have many houses) on price.\n",
    "\n",
    "#### All instances of houses will be removed from the dataset"
   ]
  },
  {
   "cell_type": "code",
   "execution_count": 23,
   "metadata": {},
   "outputs": [],
   "source": [
    "def is_house(x):\n",
    "    if \"House\" in x or \"house\" in x:\n",
    "        return None\n",
    "    else:\n",
    "        return x"
   ]
  },
  {
   "cell_type": "code",
   "execution_count": 24,
   "metadata": {},
   "outputs": [],
   "source": [
    "df[\"Title\"] = df[\"Title\"].map(is_house)\n",
    "df = df.dropna()"
   ]
  },
  {
   "cell_type": "code",
   "execution_count": 25,
   "metadata": {
    "scrolled": true
   },
   "outputs": [
    {
     "data": {
      "text/plain": [
       "<matplotlib.axes._subplots.AxesSubplot at 0x115bcabd0>"
      ]
     },
     "execution_count": 25,
     "metadata": {},
     "output_type": "execute_result"
    },
    {
     "data": {
      "image/png": "[encoded data removed]",
      "text/plain": [
       "<Figure size 432x288 with 1 Axes>"
      ]
     },
     "metadata": {},
     "output_type": "display_data"
    }
   ],
   "source": [
    "sns.distplot(df[\"Price per month\"], hist= False)"
   ]
  },
  {
   "cell_type": "markdown",
   "metadata": {},
   "source": [
    "#### There are still lots of outliers in terms of Price. The prices seem astonishing for a month in an apartment. Either these numbers have been included erroneously, or these are rare super-luxury buildings. These outliers will be removed."
   ]
  },
  {
   "cell_type": "code",
   "execution_count": 26,
   "metadata": {},
   "outputs": [
    {
     "data": {
      "text/plain": [
       "(-1750.0, 11450.0)"
      ]
     },
     "execution_count": 26,
     "metadata": {},
     "output_type": "execute_result"
    }
   ],
   "source": [
    "q75,q25 = np.percentile(df[\"Price per month\"],[75,25])\n",
    "iqr = q75-q25\n",
    "\n",
    "cut_off = iqr * 1.5\n",
    "lower, upper = q25 - cut_off, q75 + cut_off\n",
    "lower, upper"
   ]
  },
  {
   "cell_type": "code",
   "execution_count": 27,
   "metadata": {},
   "outputs": [],
   "source": [
    "df[df[\"Price per month\"] < lower] = np.nan\n",
    "df[df[\"Price per month\"] > upper] = np.nan"
   ]
  },
  {
   "cell_type": "code",
   "execution_count": 28,
   "metadata": {},
   "outputs": [
    {
     "data": {
      "text/plain": [
       "420"
      ]
     },
     "execution_count": 28,
     "metadata": {},
     "output_type": "execute_result"
    }
   ],
   "source": [
    "df[\"Price per month\"].isnull().sum()"
   ]
  },
  {
   "cell_type": "code",
   "execution_count": 29,
   "metadata": {},
   "outputs": [
    {
     "name": "stdout",
     "output_type": "stream",
     "text": [
      "Before outlier removal (6493, 8)\n",
      "After outlier removal (6073, 8)\n"
     ]
    }
   ],
   "source": [
    "print(\"Before outlier removal\",df.shape)\n",
    "df = df.dropna()\n",
    "print(\"After outlier removal\",df.shape)"
   ]
  },
  {
   "cell_type": "code",
   "execution_count": 30,
   "metadata": {},
   "outputs": [
    {
     "data": {
      "text/plain": [
       "<matplotlib.axes._subplots.AxesSubplot at 0x115d18990>"
      ]
     },
     "execution_count": 30,
     "metadata": {},
     "output_type": "execute_result"
    },
    {
     "data": {
      "image/png": "[encoded data removed]",
      "text/plain": [
       "<Figure size 432x288 with 1 Axes>"
      ]
     },
     "metadata": {},
     "output_type": "display_data"
    }
   ],
   "source": [
    "sns.distplot(df[\"Price per month\"], hist= False)"
   ]
  },
  {
   "cell_type": "code",
   "execution_count": 31,
   "metadata": {},
   "outputs": [
    {
     "data": {
      "text/html": [
       "<div>\n",
       "<style scoped>\n",
       "    .dataframe tbody tr th:only-of-type {\n",
       "        vertical-align: middle;\n",
       "    }\n",
       "\n",
       "    .dataframe tbody tr th {\n",
       "        vertical-align: top;\n",
       "    }\n",
       "\n",
       "    .dataframe thead th {\n",
       "        text-align: right;\n",
       "    }\n",
       "</style>\n",
       "<table border=\"1\" class=\"dataframe\">\n",
       "  <thead>\n",
       "    <tr style=\"text-align: right;\">\n",
       "      <th></th>\n",
       "      <th>Price per month</th>\n",
       "      <th>Beds</th>\n",
       "      <th>Bathrooms</th>\n",
       "      <th>Size</th>\n",
       "    </tr>\n",
       "    <tr>\n",
       "      <th>Gym</th>\n",
       "      <th></th>\n",
       "      <th></th>\n",
       "      <th></th>\n",
       "      <th></th>\n",
       "    </tr>\n",
       "  </thead>\n",
       "  <tbody>\n",
       "    <tr>\n",
       "      <th>no</th>\n",
       "      <td>3688.434219</td>\n",
       "      <td>2.230071</td>\n",
       "      <td>1.894362</td>\n",
       "      <td>1023.963707</td>\n",
       "    </tr>\n",
       "    <tr>\n",
       "      <th>yes</th>\n",
       "      <td>4969.964901</td>\n",
       "      <td>2.194040</td>\n",
       "      <td>2.041943</td>\n",
       "      <td>1110.988962</td>\n",
       "    </tr>\n",
       "  </tbody>\n",
       "</table>\n",
       "</div>"
      ],
      "text/plain": [
       "     Price per month      Beds  Bathrooms         Size\n",
       "Gym                                                   \n",
       "no       3688.434219  2.230071   1.894362  1023.963707\n",
       "yes      4969.964901  2.194040   2.041943  1110.988962"
      ]
     },
     "execution_count": 31,
     "metadata": {},
     "output_type": "execute_result"
    }
   ],
   "source": [
    "df.groupby('Gym').mean()"
   ]
  },
  {
   "cell_type": "code",
   "execution_count": 32,
   "metadata": {
    "scrolled": true
   },
   "outputs": [
    {
     "data": {
      "text/html": [
       "<div>\n",
       "<style scoped>\n",
       "    .dataframe tbody tr th:only-of-type {\n",
       "        vertical-align: middle;\n",
       "    }\n",
       "\n",
       "    .dataframe tbody tr th {\n",
       "        vertical-align: top;\n",
       "    }\n",
       "\n",
       "    .dataframe thead th {\n",
       "        text-align: right;\n",
       "    }\n",
       "</style>\n",
       "<table border=\"1\" class=\"dataframe\">\n",
       "  <thead>\n",
       "    <tr style=\"text-align: right;\">\n",
       "      <th></th>\n",
       "      <th>Price per month</th>\n",
       "      <th>Beds</th>\n",
       "      <th>Bathrooms</th>\n",
       "      <th>Size</th>\n",
       "    </tr>\n",
       "    <tr>\n",
       "      <th>Swimming Pool</th>\n",
       "      <th></th>\n",
       "      <th></th>\n",
       "      <th></th>\n",
       "      <th></th>\n",
       "    </tr>\n",
       "  </thead>\n",
       "  <tbody>\n",
       "    <tr>\n",
       "      <th>no</th>\n",
       "      <td>4236.227041</td>\n",
       "      <td>2.075802</td>\n",
       "      <td>1.823615</td>\n",
       "      <td>961.317784</td>\n",
       "    </tr>\n",
       "    <tr>\n",
       "      <th>yes</th>\n",
       "      <td>4980.771403</td>\n",
       "      <td>2.308201</td>\n",
       "      <td>2.153500</td>\n",
       "      <td>1194.022229</td>\n",
       "    </tr>\n",
       "  </tbody>\n",
       "</table>\n",
       "</div>"
      ],
      "text/plain": [
       "               Price per month      Beds  Bathrooms         Size\n",
       "Swimming Pool                                                   \n",
       "no                 4236.227041  2.075802   1.823615   961.317784\n",
       "yes                4980.771403  2.308201   2.153500  1194.022229"
      ]
     },
     "execution_count": 32,
     "metadata": {},
     "output_type": "execute_result"
    }
   ],
   "source": [
    "df.groupby('Swimming Pool').mean()"
   ]
  },
  {
   "cell_type": "code",
   "execution_count": 33,
   "metadata": {},
   "outputs": [
    {
     "data": {
      "text/plain": [
       "<seaborn.axisgrid.FacetGrid at 0x115d2ac10>"
      ]
     },
     "execution_count": 33,
     "metadata": {},
     "output_type": "execute_result"
    },
    {
     "data": {
      "image/png": "[encoded data removed]",
      "text/plain": [
       "<Figure size 360x360 with 1 Axes>"
      ]
     },
     "metadata": {},
     "output_type": "display_data"
    },
    {
     "data": {
      "image/png": "[encoded data removed]",
      "text/plain": [
       "<Figure size 360x360 with 1 Axes>"
      ]
     },
     "metadata": {},
     "output_type": "display_data"
    }
   ],
   "source": [
    "sns.catplot(x=\"Gym\", y=\"Price per month\",  kind=\"box\", data=df)\n",
    "sns.catplot(x=\"Swimming Pool\", y=\"Price per month\",  kind=\"box\", data=df)"
   ]
  },
  {
   "cell_type": "markdown",
   "metadata": {},
   "source": [
    "#### After the removal of outliers and house, we notice that presence of amenities like Gym and Swimming Pool has a postitive effect on the price"
   ]
  },
  {
   "cell_type": "code",
   "execution_count": 34,
   "metadata": {
    "scrolled": true
   },
   "outputs": [
    {
     "data": {
      "text/plain": [
       "<matplotlib.collections.PathCollection at 0x116176c10>"
      ]
     },
     "execution_count": 34,
     "metadata": {},
     "output_type": "execute_result"
    },
    {
     "data": {
      "image/png": "[encoded data removed]",
      "text/plain": [
       "<Figure size 720x504 with 1 Axes>"
      ]
     },
     "metadata": {},
     "output_type": "display_data"
    }
   ],
   "source": [
    "fig=plt.figure(figsize=(10,7))\n",
    "plt.scatter(x = df[\"Size\"], y = df[\"Price per month\"])"
   ]
  },
  {
   "cell_type": "code",
   "execution_count": 35,
   "metadata": {
    "scrolled": false
   },
   "outputs": [
    {
     "data": {
      "text/html": [
       "<div>\n",
       "<style scoped>\n",
       "    .dataframe tbody tr th:only-of-type {\n",
       "        vertical-align: middle;\n",
       "    }\n",
       "\n",
       "    .dataframe tbody tr th {\n",
       "        vertical-align: top;\n",
       "    }\n",
       "\n",
       "    .dataframe thead th {\n",
       "        text-align: right;\n",
       "    }\n",
       "</style>\n",
       "<table border=\"1\" class=\"dataframe\">\n",
       "  <thead>\n",
       "    <tr style=\"text-align: right;\">\n",
       "      <th></th>\n",
       "      <th>Price per month</th>\n",
       "      <th>Title</th>\n",
       "      <th>Beds</th>\n",
       "      <th>Bathrooms</th>\n",
       "      <th>Size</th>\n",
       "      <th>Location</th>\n",
       "      <th>Gym</th>\n",
       "      <th>Swimming Pool</th>\n",
       "    </tr>\n",
       "  </thead>\n",
       "  <tbody>\n",
       "    <tr>\n",
       "      <th>707</th>\n",
       "      <td>2800.0</td>\n",
       "      <td>1 Bed Condo for Rent in 80 Sophia Road</td>\n",
       "      <td>1.0</td>\n",
       "      <td>2.0</td>\n",
       "      <td>6106.0</td>\n",
       "      <td>Orchard / River Valley (D9)</td>\n",
       "      <td>no</td>\n",
       "      <td>no</td>\n",
       "    </tr>\n",
       "    <tr>\n",
       "      <th>5431</th>\n",
       "      <td>2900.0</td>\n",
       "      <td>HDB Flat for Rent in 112 Jurong East Street 13</td>\n",
       "      <td>3.0</td>\n",
       "      <td>2.0</td>\n",
       "      <td>9903.0</td>\n",
       "      <td>Boon Lay / Jurong / Tuas (D22)</td>\n",
       "      <td>no</td>\n",
       "      <td>no</td>\n",
       "    </tr>\n",
       "    <tr>\n",
       "      <th>5569</th>\n",
       "      <td>2700.0</td>\n",
       "      <td>HDB Flat for Rent in 710 Clementi West Street 2</td>\n",
       "      <td>2.0</td>\n",
       "      <td>2.0</td>\n",
       "      <td>9494.0</td>\n",
       "      <td>Buona Vista / West Coast / Clementi (D5)</td>\n",
       "      <td>no</td>\n",
       "      <td>no</td>\n",
       "    </tr>\n",
       "  </tbody>\n",
       "</table>\n",
       "</div>"
      ],
      "text/plain": [
       "      Price per month                                            Title  Beds  \\\n",
       "707            2800.0           1 Bed Condo for Rent in 80 Sophia Road   1.0   \n",
       "5431           2900.0   HDB Flat for Rent in 112 Jurong East Street 13   3.0   \n",
       "5569           2700.0  HDB Flat for Rent in 710 Clementi West Street 2   2.0   \n",
       "\n",
       "      Bathrooms    Size                                  Location Gym  \\\n",
       "707         2.0  6106.0               Orchard / River Valley (D9)  no   \n",
       "5431        2.0  9903.0            Boon Lay / Jurong / Tuas (D22)  no   \n",
       "5569        2.0  9494.0  Buona Vista / West Coast / Clementi (D5)  no   \n",
       "\n",
       "     Swimming Pool  \n",
       "707             no  \n",
       "5431            no  \n",
       "5569            no  "
      ]
     },
     "execution_count": 35,
     "metadata": {},
     "output_type": "execute_result"
    }
   ],
   "source": [
    "df[df[\"Size\"] >6000]"
   ]
  },
  {
   "cell_type": "markdown",
   "metadata": {},
   "source": [
    "#### There are some instances with a very high number for size. These numbers seem unbelieveable, more so for an apartment ...... especially in Singapore. These outliers will also be removed"
   ]
  },
  {
   "cell_type": "code",
   "execution_count": 36,
   "metadata": {},
   "outputs": [
    {
     "name": "stdout",
     "output_type": "stream",
     "text": [
      "Before outlier removal (6073, 8)\n",
      "After outlier removal (6065, 8)\n"
     ]
    }
   ],
   "source": [
    "df[df[\"Size\"] > 4000] = np.nan\n",
    "df[df[\"Size\"] < 100] = np.nan\n",
    "print(\"Before outlier removal\",df.shape)\n",
    "df = df.dropna()\n",
    "print(\"After outlier removal\",df.shape)"
   ]
  },
  {
   "cell_type": "code",
   "execution_count": 37,
   "metadata": {},
   "outputs": [
    {
     "data": {
      "text/plain": [
       "<matplotlib.collections.PathCollection at 0x116126210>"
      ]
     },
     "execution_count": 37,
     "metadata": {},
     "output_type": "execute_result"
    },
    {
     "data": {
      "image/png": "[encoded data removed]",
      "text/plain": [
       "<Figure size 720x504 with 1 Axes>"
      ]
     },
     "metadata": {},
     "output_type": "display_data"
    }
   ],
   "source": [
    "fig=plt.figure(figsize=(10,7))\n",
    "plt.scatter(x = df[\"Size\"], y = df[\"Price per month\"])"
   ]
  },
  {
   "cell_type": "code",
   "execution_count": 38,
   "metadata": {},
   "outputs": [
    {
     "data": {
      "text/html": [
       "<div>\n",
       "<style scoped>\n",
       "    .dataframe tbody tr th:only-of-type {\n",
       "        vertical-align: middle;\n",
       "    }\n",
       "\n",
       "    .dataframe tbody tr th {\n",
       "        vertical-align: top;\n",
       "    }\n",
       "\n",
       "    .dataframe thead th {\n",
       "        text-align: right;\n",
       "    }\n",
       "</style>\n",
       "<table border=\"1\" class=\"dataframe\">\n",
       "  <thead>\n",
       "    <tr style=\"text-align: right;\">\n",
       "      <th></th>\n",
       "      <th>Price per month</th>\n",
       "      <th>Beds</th>\n",
       "      <th>Bathrooms</th>\n",
       "      <th>Size</th>\n",
       "    </tr>\n",
       "  </thead>\n",
       "  <tbody>\n",
       "    <tr>\n",
       "      <th>count</th>\n",
       "      <td>6065.000000</td>\n",
       "      <td>6065.000000</td>\n",
       "      <td>6065.000000</td>\n",
       "      <td>6065.000000</td>\n",
       "    </tr>\n",
       "    <tr>\n",
       "      <th>mean</th>\n",
       "      <td>4643.395713</td>\n",
       "      <td>2.201814</td>\n",
       "      <td>2.002803</td>\n",
       "      <td>1082.789283</td>\n",
       "    </tr>\n",
       "    <tr>\n",
       "      <th>std</th>\n",
       "      <td>2138.046405</td>\n",
       "      <td>0.960721</td>\n",
       "      <td>0.907219</td>\n",
       "      <td>569.041150</td>\n",
       "    </tr>\n",
       "    <tr>\n",
       "      <th>min</th>\n",
       "      <td>450.000000</td>\n",
       "      <td>1.000000</td>\n",
       "      <td>1.000000</td>\n",
       "      <td>100.000000</td>\n",
       "    </tr>\n",
       "    <tr>\n",
       "      <th>25%</th>\n",
       "      <td>3100.000000</td>\n",
       "      <td>1.000000</td>\n",
       "      <td>1.000000</td>\n",
       "      <td>678.000000</td>\n",
       "    </tr>\n",
       "    <tr>\n",
       "      <th>50%</th>\n",
       "      <td>4000.000000</td>\n",
       "      <td>2.000000</td>\n",
       "      <td>2.000000</td>\n",
       "      <td>936.000000</td>\n",
       "    </tr>\n",
       "    <tr>\n",
       "      <th>75%</th>\n",
       "      <td>5800.000000</td>\n",
       "      <td>3.000000</td>\n",
       "      <td>2.000000</td>\n",
       "      <td>1303.000000</td>\n",
       "    </tr>\n",
       "    <tr>\n",
       "      <th>max</th>\n",
       "      <td>11450.000000</td>\n",
       "      <td>6.000000</td>\n",
       "      <td>6.000000</td>\n",
       "      <td>3778.000000</td>\n",
       "    </tr>\n",
       "  </tbody>\n",
       "</table>\n",
       "</div>"
      ],
      "text/plain": [
       "       Price per month         Beds    Bathrooms         Size\n",
       "count      6065.000000  6065.000000  6065.000000  6065.000000\n",
       "mean       4643.395713     2.201814     2.002803  1082.789283\n",
       "std        2138.046405     0.960721     0.907219   569.041150\n",
       "min         450.000000     1.000000     1.000000   100.000000\n",
       "25%        3100.000000     1.000000     1.000000   678.000000\n",
       "50%        4000.000000     2.000000     2.000000   936.000000\n",
       "75%        5800.000000     3.000000     2.000000  1303.000000\n",
       "max       11450.000000     6.000000     6.000000  3778.000000"
      ]
     },
     "execution_count": 38,
     "metadata": {},
     "output_type": "execute_result"
    }
   ],
   "source": [
    "df.describe()"
   ]
  },
  {
   "cell_type": "code",
   "execution_count": 39,
   "metadata": {
    "scrolled": true
   },
   "outputs": [
    {
     "data": {
      "text/html": [
       "<div>\n",
       "<style scoped>\n",
       "    .dataframe tbody tr th:only-of-type {\n",
       "        vertical-align: middle;\n",
       "    }\n",
       "\n",
       "    .dataframe tbody tr th {\n",
       "        vertical-align: top;\n",
       "    }\n",
       "\n",
       "    .dataframe thead th {\n",
       "        text-align: right;\n",
       "    }\n",
       "</style>\n",
       "<table border=\"1\" class=\"dataframe\">\n",
       "  <thead>\n",
       "    <tr style=\"text-align: right;\">\n",
       "      <th></th>\n",
       "      <th>Price per month</th>\n",
       "    </tr>\n",
       "    <tr>\n",
       "      <th>Location</th>\n",
       "      <th></th>\n",
       "    </tr>\n",
       "  </thead>\n",
       "  <tbody>\n",
       "    <tr>\n",
       "      <th>Seletar / Yio Chu Kang (D28)</th>\n",
       "      <td>2761.400000</td>\n",
       "    </tr>\n",
       "    <tr>\n",
       "      <th>Pasir Ris / Tampines (D18)</th>\n",
       "      <td>2815.628571</td>\n",
       "    </tr>\n",
       "    <tr>\n",
       "      <th>Sembawang / Yishun (D27)</th>\n",
       "      <td>2831.655738</td>\n",
       "    </tr>\n",
       "    <tr>\n",
       "      <th>Mandai / Upper Thomson (D26)</th>\n",
       "      <td>2935.714286</td>\n",
       "    </tr>\n",
       "    <tr>\n",
       "      <th>Changi Airport / Changi Village (D17)</th>\n",
       "      <td>2977.826087</td>\n",
       "    </tr>\n",
       "    <tr>\n",
       "      <th>Balestier / Toa Payoh (D12)</th>\n",
       "      <td>2992.609091</td>\n",
       "    </tr>\n",
       "    <tr>\n",
       "      <th>Hougang / Punggol / Sengkang (D19)</th>\n",
       "      <td>3020.640523</td>\n",
       "    </tr>\n",
       "    <tr>\n",
       "      <th>Bedok / Upper East Coast (D16)</th>\n",
       "      <td>3100.312500</td>\n",
       "    </tr>\n",
       "    <tr>\n",
       "      <th>Ang Mo Kio / Bishan / Thomson (D20)</th>\n",
       "      <td>3187.765152</td>\n",
       "    </tr>\n",
       "    <tr>\n",
       "      <th>Macpherson / Potong Pasir (D13)</th>\n",
       "      <td>3190.586207</td>\n",
       "    </tr>\n",
       "    <tr>\n",
       "      <th>Bukit Batok / Bukit Panjang / Choa Chu Kang (D23)</th>\n",
       "      <td>3232.836364</td>\n",
       "    </tr>\n",
       "    <tr>\n",
       "      <th>Eunos / Geylang / Paya Lebar (D14)</th>\n",
       "      <td>3240.662879</td>\n",
       "    </tr>\n",
       "    <tr>\n",
       "      <th>Boon Lay / Jurong / Tuas (D22)</th>\n",
       "      <td>3248.496183</td>\n",
       "    </tr>\n",
       "    <tr>\n",
       "      <th>Farrer Park / Serangoon Rd (D8)</th>\n",
       "      <td>3408.455446</td>\n",
       "    </tr>\n",
       "    <tr>\n",
       "      <th>Admiralty / Woodlands (D25)</th>\n",
       "      <td>4044.444444</td>\n",
       "    </tr>\n",
       "    <tr>\n",
       "      <th>East Coast / Marine Parade (D15)</th>\n",
       "      <td>4115.492784</td>\n",
       "    </tr>\n",
       "    <tr>\n",
       "      <th>Beach Road / Bugis / Rochor (D7)</th>\n",
       "      <td>4149.974843</td>\n",
       "    </tr>\n",
       "    <tr>\n",
       "      <th>Buona Vista / West Coast / Clementi (D5)</th>\n",
       "      <td>4223.903114</td>\n",
       "    </tr>\n",
       "    <tr>\n",
       "      <th>Alexandra / Commonwealth (D3)</th>\n",
       "      <td>4245.985294</td>\n",
       "    </tr>\n",
       "    <tr>\n",
       "      <th>Clementi Park / Upper Bukit Timah (D21)</th>\n",
       "      <td>4303.000000</td>\n",
       "    </tr>\n",
       "    <tr>\n",
       "      <th>City Hall / Clarke Quay (D6)</th>\n",
       "      <td>4383.333333</td>\n",
       "    </tr>\n",
       "    <tr>\n",
       "      <th>Chinatown / Tanjong Pagar (D2)</th>\n",
       "      <td>4876.477612</td>\n",
       "    </tr>\n",
       "    <tr>\n",
       "      <th>Boat Quay / Raffles Place / Marina (D1)</th>\n",
       "      <td>5119.164969</td>\n",
       "    </tr>\n",
       "    <tr>\n",
       "      <th>Newton / Novena (D11)</th>\n",
       "      <td>5232.899390</td>\n",
       "    </tr>\n",
       "    <tr>\n",
       "      <th>Harbourfront / Telok Blangah (D4)</th>\n",
       "      <td>5337.422764</td>\n",
       "    </tr>\n",
       "    <tr>\n",
       "      <th>Orchard / River Valley (D9)</th>\n",
       "      <td>5720.496951</td>\n",
       "    </tr>\n",
       "    <tr>\n",
       "      <th>Tanglin / Holland (D10)</th>\n",
       "      <td>6174.794473</td>\n",
       "    </tr>\n",
       "  </tbody>\n",
       "</table>\n",
       "</div>"
      ],
      "text/plain": [
       "                                                   Price per month\n",
       "Location                                                          \n",
       "Seletar / Yio Chu Kang (D28)                           2761.400000\n",
       "Pasir Ris / Tampines (D18)                             2815.628571\n",
       "Sembawang / Yishun (D27)                               2831.655738\n",
       "Mandai / Upper Thomson (D26)                           2935.714286\n",
       "Changi Airport / Changi Village (D17)                  2977.826087\n",
       "Balestier / Toa Payoh (D12)                            2992.609091\n",
       "Hougang / Punggol / Sengkang (D19)                     3020.640523\n",
       "Bedok / Upper East Coast (D16)                         3100.312500\n",
       "Ang Mo Kio / Bishan / Thomson (D20)                    3187.765152\n",
       "Macpherson / Potong Pasir (D13)                        3190.586207\n",
       "Bukit Batok / Bukit Panjang / Choa Chu Kang (D23)      3232.836364\n",
       "Eunos / Geylang / Paya Lebar (D14)                     3240.662879\n",
       "Boon Lay / Jurong / Tuas (D22)                         3248.496183\n",
       "Farrer Park / Serangoon Rd (D8)                        3408.455446\n",
       "Admiralty / Woodlands (D25)                            4044.444444\n",
       "East Coast / Marine Parade (D15)                       4115.492784\n",
       "Beach Road / Bugis / Rochor (D7)                       4149.974843\n",
       "Buona Vista / West Coast / Clementi (D5)               4223.903114\n",
       "Alexandra / Commonwealth (D3)                          4245.985294\n",
       "Clementi Park / Upper Bukit Timah (D21)                4303.000000\n",
       "City Hall / Clarke Quay (D6)                           4383.333333\n",
       "Chinatown / Tanjong Pagar (D2)                         4876.477612\n",
       "Boat Quay / Raffles Place / Marina (D1)                5119.164969\n",
       "Newton / Novena (D11)                                  5232.899390\n",
       "Harbourfront / Telok Blangah (D4)                      5337.422764\n",
       "Orchard / River Valley (D9)                            5720.496951\n",
       "Tanglin / Holland (D10)                                6174.794473"
      ]
     },
     "execution_count": 39,
     "metadata": {},
     "output_type": "execute_result"
    }
   ],
   "source": [
    "pd.pivot_table(df, index = [\"Location\"], values = \"Price per month\", aggfunc = \"mean\").sort_values(\"Price per month\")"
   ]
  },
  {
   "cell_type": "markdown",
   "metadata": {},
   "source": [
    "#### As expected, central areas of Singapore have a higher apartment price at an average as compared to suburban areas"
   ]
  },
  {
   "cell_type": "code",
   "execution_count": 40,
   "metadata": {},
   "outputs": [
    {
     "data": {
      "text/plain": [
       "<matplotlib.axes._subplots.AxesSubplot at 0x116438690>"
      ]
     },
     "execution_count": 40,
     "metadata": {},
     "output_type": "execute_result"
    },
    {
     "data": {
      "image/png": "[encoded data removed]",
      "text/plain": [
       "<Figure size 432x288 with 1 Axes>"
      ]
     },
     "metadata": {},
     "output_type": "display_data"
    }
   ],
   "source": [
    "from matplotlib.ticker import FuncFormatter\n",
    "import matplotlib.mlab as mlab\n",
    "import matplotlib.cbook as cbook\n",
    "import matplotlib.ticker as ticker\n",
    "\n",
    "sns.set(font_scale=1)\n",
    "count_classes = pd.value_counts(df['Location'], sort = True)\n",
    "count_classes.plot(kind = 'bar', rot=90)\n",
    "\n"
   ]
  },
  {
   "cell_type": "markdown",
   "metadata": {},
   "source": [
    "#### The instances are highly dominated by central locations like Orchard, Raffles Place etc. This can potentially affect the model in predicting apartment prices in suburban Singapore."
   ]
  },
  {
   "cell_type": "code",
   "execution_count": 41,
   "metadata": {},
   "outputs": [],
   "source": [
    "df = df.drop(\"Title\",1) #Dropping the titles as they will provide no assistance in modelling"
   ]
  },
  {
   "cell_type": "code",
   "execution_count": 42,
   "metadata": {},
   "outputs": [
    {
     "data": {
      "text/html": [
       "<div>\n",
       "<style scoped>\n",
       "    .dataframe tbody tr th:only-of-type {\n",
       "        vertical-align: middle;\n",
       "    }\n",
       "\n",
       "    .dataframe tbody tr th {\n",
       "        vertical-align: top;\n",
       "    }\n",
       "\n",
       "    .dataframe thead th {\n",
       "        text-align: right;\n",
       "    }\n",
       "</style>\n",
       "<table border=\"1\" class=\"dataframe\">\n",
       "  <thead>\n",
       "    <tr style=\"text-align: right;\">\n",
       "      <th></th>\n",
       "      <th></th>\n",
       "      <th></th>\n",
       "      <th>Price per month</th>\n",
       "    </tr>\n",
       "    <tr>\n",
       "      <th>Location</th>\n",
       "      <th>Swimming Pool</th>\n",
       "      <th>Gym</th>\n",
       "      <th></th>\n",
       "    </tr>\n",
       "  </thead>\n",
       "  <tbody>\n",
       "    <tr>\n",
       "      <th rowspan=\"3\" valign=\"top\">Admiralty / Woodlands (D25)</th>\n",
       "      <th rowspan=\"2\" valign=\"top\">no</th>\n",
       "      <th>no</th>\n",
       "      <td>2232.142857</td>\n",
       "    </tr>\n",
       "    <tr>\n",
       "      <th>yes</th>\n",
       "      <td>5287.500000</td>\n",
       "    </tr>\n",
       "    <tr>\n",
       "      <th>yes</th>\n",
       "      <th>yes</th>\n",
       "      <td>4300.000000</td>\n",
       "    </tr>\n",
       "    <tr>\n",
       "      <th rowspan=\"3\" valign=\"top\">Alexandra / Commonwealth (D3)</th>\n",
       "      <th rowspan=\"2\" valign=\"top\">no</th>\n",
       "      <th>no</th>\n",
       "      <td>2932.760563</td>\n",
       "    </tr>\n",
       "    <tr>\n",
       "      <th>yes</th>\n",
       "      <td>3723.607143</td>\n",
       "    </tr>\n",
       "    <tr>\n",
       "      <th>yes</th>\n",
       "      <th>yes</th>\n",
       "      <td>5090.758621</td>\n",
       "    </tr>\n",
       "    <tr>\n",
       "      <th rowspan=\"3\" valign=\"top\">Ang Mo Kio / Bishan / Thomson (D20)</th>\n",
       "      <th rowspan=\"2\" valign=\"top\">no</th>\n",
       "      <th>no</th>\n",
       "      <td>2305.937500</td>\n",
       "    </tr>\n",
       "    <tr>\n",
       "      <th>yes</th>\n",
       "      <td>4011.764706</td>\n",
       "    </tr>\n",
       "    <tr>\n",
       "      <th>yes</th>\n",
       "      <th>yes</th>\n",
       "      <td>3474.000000</td>\n",
       "    </tr>\n",
       "    <tr>\n",
       "      <th rowspan=\"4\" valign=\"top\">Balestier / Toa Payoh (D12)</th>\n",
       "      <th rowspan=\"2\" valign=\"top\">no</th>\n",
       "      <th>no</th>\n",
       "      <td>2872.029412</td>\n",
       "    </tr>\n",
       "    <tr>\n",
       "      <th>yes</th>\n",
       "      <td>3048.947368</td>\n",
       "    </tr>\n",
       "    <tr>\n",
       "      <th rowspan=\"2\" valign=\"top\">yes</th>\n",
       "      <th>no</th>\n",
       "      <td>2600.000000</td>\n",
       "    </tr>\n",
       "    <tr>\n",
       "      <th>yes</th>\n",
       "      <td>3061.963636</td>\n",
       "    </tr>\n",
       "    <tr>\n",
       "      <th rowspan=\"4\" valign=\"top\">Beach Road / Bugis / Rochor (D7)</th>\n",
       "      <th rowspan=\"2\" valign=\"top\">no</th>\n",
       "      <th>no</th>\n",
       "      <td>3472.121212</td>\n",
       "    </tr>\n",
       "    <tr>\n",
       "      <th>yes</th>\n",
       "      <td>5192.863636</td>\n",
       "    </tr>\n",
       "    <tr>\n",
       "      <th rowspan=\"2\" valign=\"top\">yes</th>\n",
       "      <th>no</th>\n",
       "      <td>3150.000000</td>\n",
       "    </tr>\n",
       "    <tr>\n",
       "      <th>yes</th>\n",
       "      <td>3919.473684</td>\n",
       "    </tr>\n",
       "    <tr>\n",
       "      <th rowspan=\"4\" valign=\"top\">Bedok / Upper East Coast (D16)</th>\n",
       "      <th rowspan=\"2\" valign=\"top\">no</th>\n",
       "      <th>no</th>\n",
       "      <td>2506.115385</td>\n",
       "    </tr>\n",
       "    <tr>\n",
       "      <th>yes</th>\n",
       "      <td>3400.000000</td>\n",
       "    </tr>\n",
       "    <tr>\n",
       "      <th rowspan=\"2\" valign=\"top\">yes</th>\n",
       "      <th>no</th>\n",
       "      <td>2599.666667</td>\n",
       "    </tr>\n",
       "    <tr>\n",
       "      <th>yes</th>\n",
       "      <td>3465.839080</td>\n",
       "    </tr>\n",
       "    <tr>\n",
       "      <th rowspan=\"4\" valign=\"top\">Boat Quay / Raffles Place / Marina (D1)</th>\n",
       "      <th rowspan=\"2\" valign=\"top\">no</th>\n",
       "      <th>no</th>\n",
       "      <td>4373.347826</td>\n",
       "    </tr>\n",
       "    <tr>\n",
       "      <th>yes</th>\n",
       "      <td>5206.887363</td>\n",
       "    </tr>\n",
       "    <tr>\n",
       "      <th rowspan=\"2\" valign=\"top\">yes</th>\n",
       "      <th>no</th>\n",
       "      <td>5000.000000</td>\n",
       "    </tr>\n",
       "    <tr>\n",
       "      <th>yes</th>\n",
       "      <td>4976.854369</td>\n",
       "    </tr>\n",
       "    <tr>\n",
       "      <th rowspan=\"3\" valign=\"top\">Boon Lay / Jurong / Tuas (D22)</th>\n",
       "      <th rowspan=\"2\" valign=\"top\">no</th>\n",
       "      <th>no</th>\n",
       "      <td>2911.236364</td>\n",
       "    </tr>\n",
       "    <tr>\n",
       "      <th>yes</th>\n",
       "      <td>3680.769231</td>\n",
       "    </tr>\n",
       "    <tr>\n",
       "      <th>yes</th>\n",
       "      <th>yes</th>\n",
       "      <td>3394.700000</td>\n",
       "    </tr>\n",
       "    <tr>\n",
       "      <th rowspan=\"4\" valign=\"top\">Bukit Batok / Bukit Panjang / Choa Chu Kang (D23)</th>\n",
       "      <th rowspan=\"2\" valign=\"top\">no</th>\n",
       "      <th>no</th>\n",
       "      <td>2889.511628</td>\n",
       "    </tr>\n",
       "    <tr>\n",
       "      <th>yes</th>\n",
       "      <td>3607.333333</td>\n",
       "    </tr>\n",
       "    <tr>\n",
       "      <th rowspan=\"2\" valign=\"top\">yes</th>\n",
       "      <th>no</th>\n",
       "      <td>4128.428571</td>\n",
       "    </tr>\n",
       "    <tr>\n",
       "      <th>yes</th>\n",
       "      <td>3316.166667</td>\n",
       "    </tr>\n",
       "    <tr>\n",
       "      <th rowspan=\"4\" valign=\"top\">Buona Vista / West Coast / Clementi (D5)</th>\n",
       "      <th rowspan=\"2\" valign=\"top\">no</th>\n",
       "      <th>no</th>\n",
       "      <td>3530.945205</td>\n",
       "    </tr>\n",
       "    <tr>\n",
       "      <th>yes</th>\n",
       "      <td>5422.622642</td>\n",
       "    </tr>\n",
       "    <tr>\n",
       "      <th rowspan=\"2\" valign=\"top\">yes</th>\n",
       "      <th>no</th>\n",
       "      <td>4223.823529</td>\n",
       "    </tr>\n",
       "    <tr>\n",
       "      <th>yes</th>\n",
       "      <td>4123.565891</td>\n",
       "    </tr>\n",
       "    <tr>\n",
       "      <th rowspan=\"4\" valign=\"top\">Changi Airport / Changi Village (D17)</th>\n",
       "      <th rowspan=\"2\" valign=\"top\">no</th>\n",
       "      <th>no</th>\n",
       "      <td>2600.000000</td>\n",
       "    </tr>\n",
       "    <tr>\n",
       "      <th>yes</th>\n",
       "      <td>3180.909091</td>\n",
       "    </tr>\n",
       "    <tr>\n",
       "      <th rowspan=\"2\" valign=\"top\">yes</th>\n",
       "      <th>no</th>\n",
       "      <td>3500.000000</td>\n",
       "    </tr>\n",
       "    <tr>\n",
       "      <th>yes</th>\n",
       "      <td>2740.000000</td>\n",
       "    </tr>\n",
       "    <tr>\n",
       "      <th rowspan=\"4\" valign=\"top\">Chinatown / Tanjong Pagar (D2)</th>\n",
       "      <th rowspan=\"2\" valign=\"top\">no</th>\n",
       "      <th>no</th>\n",
       "      <td>2930.000000</td>\n",
       "    </tr>\n",
       "    <tr>\n",
       "      <th>yes</th>\n",
       "      <td>4228.163265</td>\n",
       "    </tr>\n",
       "    <tr>\n",
       "      <th rowspan=\"2\" valign=\"top\">yes</th>\n",
       "      <th>no</th>\n",
       "      <td>3192.857143</td>\n",
       "    </tr>\n",
       "    <tr>\n",
       "      <th>yes</th>\n",
       "      <td>6003.670588</td>\n",
       "    </tr>\n",
       "    <tr>\n",
       "      <th>City Hall / Clarke Quay (D6)</th>\n",
       "      <th>no</th>\n",
       "      <th>no</th>\n",
       "      <td>4383.333333</td>\n",
       "    </tr>\n",
       "    <tr>\n",
       "      <th rowspan=\"4\" valign=\"top\">Clementi Park / Upper Bukit Timah (D21)</th>\n",
       "      <th rowspan=\"2\" valign=\"top\">no</th>\n",
       "      <th>no</th>\n",
       "      <td>3500.000000</td>\n",
       "    </tr>\n",
       "    <tr>\n",
       "      <th>yes</th>\n",
       "      <td>4050.000000</td>\n",
       "    </tr>\n",
       "    <tr>\n",
       "      <th rowspan=\"2\" valign=\"top\">yes</th>\n",
       "      <th>no</th>\n",
       "      <td>3907.692308</td>\n",
       "    </tr>\n",
       "    <tr>\n",
       "      <th>yes</th>\n",
       "      <td>4454.016129</td>\n",
       "    </tr>\n",
       "    <tr>\n",
       "      <th rowspan=\"4\" valign=\"top\">East Coast / Marine Parade (D15)</th>\n",
       "      <th rowspan=\"2\" valign=\"top\">no</th>\n",
       "      <th>no</th>\n",
       "      <td>3514.528090</td>\n",
       "    </tr>\n",
       "    <tr>\n",
       "      <th>yes</th>\n",
       "      <td>4032.072368</td>\n",
       "    </tr>\n",
       "    <tr>\n",
       "      <th rowspan=\"2\" valign=\"top\">yes</th>\n",
       "      <th>no</th>\n",
       "      <td>4697.863636</td>\n",
       "    </tr>\n",
       "    <tr>\n",
       "      <th>yes</th>\n",
       "      <td>4318.200000</td>\n",
       "    </tr>\n",
       "    <tr>\n",
       "      <th rowspan=\"4\" valign=\"top\">Eunos / Geylang / Paya Lebar (D14)</th>\n",
       "      <th rowspan=\"2\" valign=\"top\">no</th>\n",
       "      <th>no</th>\n",
       "      <td>3266.529412</td>\n",
       "    </tr>\n",
       "    <tr>\n",
       "      <th>yes</th>\n",
       "      <td>4544.538462</td>\n",
       "    </tr>\n",
       "    <tr>\n",
       "      <th rowspan=\"2\" valign=\"top\">yes</th>\n",
       "      <th>no</th>\n",
       "      <td>2789.647059</td>\n",
       "    </tr>\n",
       "    <tr>\n",
       "      <th>yes</th>\n",
       "      <td>3192.765306</td>\n",
       "    </tr>\n",
       "    <tr>\n",
       "      <th rowspan=\"4\" valign=\"top\">Farrer Park / Serangoon Rd (D8)</th>\n",
       "      <th rowspan=\"2\" valign=\"top\">no</th>\n",
       "      <th>no</th>\n",
       "      <td>3962.526316</td>\n",
       "    </tr>\n",
       "    <tr>\n",
       "      <th>yes</th>\n",
       "      <td>4025.142857</td>\n",
       "    </tr>\n",
       "    <tr>\n",
       "      <th rowspan=\"2\" valign=\"top\">yes</th>\n",
       "      <th>no</th>\n",
       "      <td>3229.914286</td>\n",
       "    </tr>\n",
       "    <tr>\n",
       "      <th>yes</th>\n",
       "      <td>3193.575000</td>\n",
       "    </tr>\n",
       "    <tr>\n",
       "      <th rowspan=\"4\" valign=\"top\">Harbourfront / Telok Blangah (D4)</th>\n",
       "      <th rowspan=\"2\" valign=\"top\">no</th>\n",
       "      <th>no</th>\n",
       "      <td>3440.476190</td>\n",
       "    </tr>\n",
       "    <tr>\n",
       "      <th>yes</th>\n",
       "      <td>8850.000000</td>\n",
       "    </tr>\n",
       "    <tr>\n",
       "      <th rowspan=\"2\" valign=\"top\">yes</th>\n",
       "      <th>no</th>\n",
       "      <td>2825.444444</td>\n",
       "    </tr>\n",
       "    <tr>\n",
       "      <th>yes</th>\n",
       "      <td>5881.168539</td>\n",
       "    </tr>\n",
       "    <tr>\n",
       "      <th rowspan=\"4\" valign=\"top\">Hougang / Punggol / Sengkang (D19)</th>\n",
       "      <th rowspan=\"2\" valign=\"top\">no</th>\n",
       "      <th>no</th>\n",
       "      <td>2435.978723</td>\n",
       "    </tr>\n",
       "    <tr>\n",
       "      <th>yes</th>\n",
       "      <td>3284.973684</td>\n",
       "    </tr>\n",
       "    <tr>\n",
       "      <th rowspan=\"2\" valign=\"top\">yes</th>\n",
       "      <th>no</th>\n",
       "      <td>3969.925926</td>\n",
       "    </tr>\n",
       "    <tr>\n",
       "      <th>yes</th>\n",
       "      <td>2820.731707</td>\n",
       "    </tr>\n",
       "    <tr>\n",
       "      <th rowspan=\"4\" valign=\"top\">Macpherson / Potong Pasir (D13)</th>\n",
       "      <th rowspan=\"2\" valign=\"top\">no</th>\n",
       "      <th>no</th>\n",
       "      <td>2892.969697</td>\n",
       "    </tr>\n",
       "    <tr>\n",
       "      <th>yes</th>\n",
       "      <td>3492.533333</td>\n",
       "    </tr>\n",
       "    <tr>\n",
       "      <th rowspan=\"2\" valign=\"top\">yes</th>\n",
       "      <th>no</th>\n",
       "      <td>3166.666667</td>\n",
       "    </tr>\n",
       "    <tr>\n",
       "      <th>yes</th>\n",
       "      <td>3956.857143</td>\n",
       "    </tr>\n",
       "    <tr>\n",
       "      <th rowspan=\"2\" valign=\"top\">Mandai / Upper Thomson (D26)</th>\n",
       "      <th rowspan=\"2\" valign=\"top\">yes</th>\n",
       "      <th>no</th>\n",
       "      <td>2200.000000</td>\n",
       "    </tr>\n",
       "    <tr>\n",
       "      <th>yes</th>\n",
       "      <td>3230.000000</td>\n",
       "    </tr>\n",
       "    <tr>\n",
       "      <th rowspan=\"4\" valign=\"top\">Newton / Novena (D11)</th>\n",
       "      <th rowspan=\"2\" valign=\"top\">no</th>\n",
       "      <th>no</th>\n",
       "      <td>5264.238095</td>\n",
       "    </tr>\n",
       "    <tr>\n",
       "      <th>yes</th>\n",
       "      <td>5099.733333</td>\n",
       "    </tr>\n",
       "    <tr>\n",
       "      <th rowspan=\"2\" valign=\"top\">yes</th>\n",
       "      <th>no</th>\n",
       "      <td>3769.970149</td>\n",
       "    </tr>\n",
       "    <tr>\n",
       "      <th>yes</th>\n",
       "      <td>5762.902564</td>\n",
       "    </tr>\n",
       "    <tr>\n",
       "      <th rowspan=\"4\" valign=\"top\">Orchard / River Valley (D9)</th>\n",
       "      <th rowspan=\"2\" valign=\"top\">no</th>\n",
       "      <th>no</th>\n",
       "      <td>4366.504348</td>\n",
       "    </tr>\n",
       "    <tr>\n",
       "      <th>yes</th>\n",
       "      <td>5356.765273</td>\n",
       "    </tr>\n",
       "    <tr>\n",
       "      <th rowspan=\"2\" valign=\"top\">yes</th>\n",
       "      <th>no</th>\n",
       "      <td>6035.613861</td>\n",
       "    </tr>\n",
       "    <tr>\n",
       "      <th>yes</th>\n",
       "      <td>6022.411465</td>\n",
       "    </tr>\n",
       "    <tr>\n",
       "      <th rowspan=\"4\" valign=\"top\">Pasir Ris / Tampines (D18)</th>\n",
       "      <th rowspan=\"2\" valign=\"top\">no</th>\n",
       "      <th>no</th>\n",
       "      <td>2310.675000</td>\n",
       "    </tr>\n",
       "    <tr>\n",
       "      <th>yes</th>\n",
       "      <td>2946.530612</td>\n",
       "    </tr>\n",
       "    <tr>\n",
       "      <th rowspan=\"2\" valign=\"top\">yes</th>\n",
       "      <th>no</th>\n",
       "      <td>2325.000000</td>\n",
       "    </tr>\n",
       "    <tr>\n",
       "      <th>yes</th>\n",
       "      <td>3098.424242</td>\n",
       "    </tr>\n",
       "    <tr>\n",
       "      <th rowspan=\"4\" valign=\"top\">Seletar / Yio Chu Kang (D28)</th>\n",
       "      <th rowspan=\"2\" valign=\"top\">no</th>\n",
       "      <th>no</th>\n",
       "      <td>2500.000000</td>\n",
       "    </tr>\n",
       "    <tr>\n",
       "      <th>yes</th>\n",
       "      <td>3900.000000</td>\n",
       "    </tr>\n",
       "    <tr>\n",
       "      <th rowspan=\"2\" valign=\"top\">yes</th>\n",
       "      <th>no</th>\n",
       "      <td>3000.000000</td>\n",
       "    </tr>\n",
       "    <tr>\n",
       "      <th>yes</th>\n",
       "      <td>2636.750000</td>\n",
       "    </tr>\n",
       "    <tr>\n",
       "      <th rowspan=\"4\" valign=\"top\">Sembawang / Yishun (D27)</th>\n",
       "      <th rowspan=\"2\" valign=\"top\">no</th>\n",
       "      <th>no</th>\n",
       "      <td>2322.375000</td>\n",
       "    </tr>\n",
       "    <tr>\n",
       "      <th>yes</th>\n",
       "      <td>2665.000000</td>\n",
       "    </tr>\n",
       "    <tr>\n",
       "      <th rowspan=\"2\" valign=\"top\">yes</th>\n",
       "      <th>no</th>\n",
       "      <td>4839.666667</td>\n",
       "    </tr>\n",
       "    <tr>\n",
       "      <th>yes</th>\n",
       "      <td>2919.333333</td>\n",
       "    </tr>\n",
       "    <tr>\n",
       "      <th rowspan=\"4\" valign=\"top\">Tanglin / Holland (D10)</th>\n",
       "      <th rowspan=\"2\" valign=\"top\">no</th>\n",
       "      <th>no</th>\n",
       "      <td>5134.888889</td>\n",
       "    </tr>\n",
       "    <tr>\n",
       "      <th>yes</th>\n",
       "      <td>6996.140741</td>\n",
       "    </tr>\n",
       "    <tr>\n",
       "      <th rowspan=\"2\" valign=\"top\">yes</th>\n",
       "      <th>no</th>\n",
       "      <td>5978.177778</td>\n",
       "    </tr>\n",
       "    <tr>\n",
       "      <th>yes</th>\n",
       "      <td>6066.104167</td>\n",
       "    </tr>\n",
       "  </tbody>\n",
       "</table>\n",
       "</div>"
      ],
      "text/plain": [
       "                                                                     Price per month\n",
       "Location                                          Swimming Pool Gym                 \n",
       "Admiralty / Woodlands (D25)                       no            no       2232.142857\n",
       "                                                                yes      5287.500000\n",
       "                                                  yes           yes      4300.000000\n",
       "Alexandra / Commonwealth (D3)                     no            no       2932.760563\n",
       "                                                                yes      3723.607143\n",
       "                                                  yes           yes      5090.758621\n",
       "Ang Mo Kio / Bishan / Thomson (D20)               no            no       2305.937500\n",
       "                                                                yes      4011.764706\n",
       "                                                  yes           yes      3474.000000\n",
       "Balestier / Toa Payoh (D12)                       no            no       2872.029412\n",
       "                                                                yes      3048.947368\n",
       "                                                  yes           no       2600.000000\n",
       "                                                                yes      3061.963636\n",
       "Beach Road / Bugis / Rochor (D7)                  no            no       3472.121212\n",
       "                                                                yes      5192.863636\n",
       "                                                  yes           no       3150.000000\n",
       "                                                                yes      3919.473684\n",
       "Bedok / Upper East Coast (D16)                    no            no       2506.115385\n",
       "                                                                yes      3400.000000\n",
       "                                                  yes           no       2599.666667\n",
       "                                                                yes      3465.839080\n",
       "Boat Quay / Raffles Place / Marina (D1)           no            no       4373.347826\n",
       "                                                                yes      5206.887363\n",
       "                                                  yes           no       5000.000000\n",
       "                                                                yes      4976.854369\n",
       "Boon Lay / Jurong / Tuas (D22)                    no            no       2911.236364\n",
       "                                                                yes      3680.769231\n",
       "                                                  yes           yes      3394.700000\n",
       "Bukit Batok / Bukit Panjang / Choa Chu Kang (D23) no            no       2889.511628\n",
       "                                                                yes      3607.333333\n",
       "                                                  yes           no       4128.428571\n",
       "                                                                yes      3316.166667\n",
       "Buona Vista / West Coast / Clementi (D5)          no            no       3530.945205\n",
       "                                                                yes      5422.622642\n",
       "                                                  yes           no       4223.823529\n",
       "                                                                yes      4123.565891\n",
       "Changi Airport / Changi Village (D17)             no            no       2600.000000\n",
       "                                                                yes      3180.909091\n",
       "                                                  yes           no       3500.000000\n",
       "                                                                yes      2740.000000\n",
       "Chinatown / Tanjong Pagar (D2)                    no            no       2930.000000\n",
       "                                                                yes      4228.163265\n",
       "                                                  yes           no       3192.857143\n",
       "                                                                yes      6003.670588\n",
       "City Hall / Clarke Quay (D6)                      no            no       4383.333333\n",
       "Clementi Park / Upper Bukit Timah (D21)           no            no       3500.000000\n",
       "                                                                yes      4050.000000\n",
       "                                                  yes           no       3907.692308\n",
       "                                                                yes      4454.016129\n",
       "East Coast / Marine Parade (D15)                  no            no       3514.528090\n",
       "                                                                yes      4032.072368\n",
       "                                                  yes           no       4697.863636\n",
       "                                                                yes      4318.200000\n",
       "Eunos / Geylang / Paya Lebar (D14)                no            no       3266.529412\n",
       "                                                                yes      4544.538462\n",
       "                                                  yes           no       2789.647059\n",
       "                                                                yes      3192.765306\n",
       "Farrer Park / Serangoon Rd (D8)                   no            no       3962.526316\n",
       "                                                                yes      4025.142857\n",
       "                                                  yes           no       3229.914286\n",
       "                                                                yes      3193.575000\n",
       "Harbourfront / Telok Blangah (D4)                 no            no       3440.476190\n",
       "                                                                yes      8850.000000\n",
       "                                                  yes           no       2825.444444\n",
       "                                                                yes      5881.168539\n",
       "Hougang / Punggol / Sengkang (D19)                no            no       2435.978723\n",
       "                                                                yes      3284.973684\n",
       "                                                  yes           no       3969.925926\n",
       "                                                                yes      2820.731707\n",
       "Macpherson / Potong Pasir (D13)                   no            no       2892.969697\n",
       "                                                                yes      3492.533333\n",
       "                                                  yes           no       3166.666667\n",
       "                                                                yes      3956.857143\n",
       "Mandai / Upper Thomson (D26)                      yes           no       2200.000000\n",
       "                                                                yes      3230.000000\n",
       "Newton / Novena (D11)                             no            no       5264.238095\n",
       "                                                                yes      5099.733333\n",
       "                                                  yes           no       3769.970149\n",
       "                                                                yes      5762.902564\n",
       "Orchard / River Valley (D9)                       no            no       4366.504348\n",
       "                                                                yes      5356.765273\n",
       "                                                  yes           no       6035.613861\n",
       "                                                                yes      6022.411465\n",
       "Pasir Ris / Tampines (D18)                        no            no       2310.675000\n",
       "                                                                yes      2946.530612\n",
       "                                                  yes           no       2325.000000\n",
       "                                                                yes      3098.424242\n",
       "Seletar / Yio Chu Kang (D28)                      no            no       2500.000000\n",
       "                                                                yes      3900.000000\n",
       "                                                  yes           no       3000.000000\n",
       "                                                                yes      2636.750000\n",
       "Sembawang / Yishun (D27)                          no            no       2322.375000\n",
       "                                                                yes      2665.000000\n",
       "                                                  yes           no       4839.666667\n",
       "                                                                yes      2919.333333\n",
       "Tanglin / Holland (D10)                           no            no       5134.888889\n",
       "                                                                yes      6996.140741\n",
       "                                                  yes           no       5978.177778\n",
       "                                                                yes      6066.104167"
      ]
     },
     "execution_count": 42,
     "metadata": {},
     "output_type": "execute_result"
    }
   ],
   "source": [
    "pd.set_option('display.max_rows', None)\n",
    "pd.pivot_table(df, index = [\"Location\", \"Swimming Pool\",\"Gym\"], values = \"Price per month\", aggfunc = \"mean\")"
   ]
  },
  {
   "cell_type": "markdown",
   "metadata": {},
   "source": [
    "#### The difference in availability of Gym and Swimming Pool leads to stark price differences in some areas, and not so much in other areas. However, there is no obvious pattern in terms of whether the location is in central Singapore or towards the suburbs affecting the demand for such amenities "
   ]
  },
  {
   "cell_type": "code",
   "execution_count": 43,
   "metadata": {},
   "outputs": [
    {
     "data": {
      "text/html": [
       "<div>\n",
       "<style scoped>\n",
       "    .dataframe tbody tr th:only-of-type {\n",
       "        vertical-align: middle;\n",
       "    }\n",
       "\n",
       "    .dataframe tbody tr th {\n",
       "        vertical-align: top;\n",
       "    }\n",
       "\n",
       "    .dataframe thead th {\n",
       "        text-align: right;\n",
       "    }\n",
       "</style>\n",
       "<table border=\"1\" class=\"dataframe\">\n",
       "  <thead>\n",
       "    <tr style=\"text-align: right;\">\n",
       "      <th></th>\n",
       "      <th>Price per month</th>\n",
       "      <th>Beds</th>\n",
       "      <th>Bathrooms</th>\n",
       "      <th>Size</th>\n",
       "      <th>Location</th>\n",
       "      <th>Gym</th>\n",
       "      <th>Swimming Pool</th>\n",
       "    </tr>\n",
       "  </thead>\n",
       "  <tbody>\n",
       "    <tr>\n",
       "      <th>1</th>\n",
       "      <td>3850.0</td>\n",
       "      <td>2.0</td>\n",
       "      <td>2.0</td>\n",
       "      <td>678.0</td>\n",
       "      <td>Eunos / Geylang / Paya Lebar (D14)</td>\n",
       "      <td>no</td>\n",
       "      <td>no</td>\n",
       "    </tr>\n",
       "    <tr>\n",
       "      <th>3</th>\n",
       "      <td>8900.0</td>\n",
       "      <td>4.0</td>\n",
       "      <td>3.0</td>\n",
       "      <td>2615.0</td>\n",
       "      <td>Newton / Novena (D11)</td>\n",
       "      <td>yes</td>\n",
       "      <td>yes</td>\n",
       "    </tr>\n",
       "    <tr>\n",
       "      <th>4</th>\n",
       "      <td>7000.0</td>\n",
       "      <td>3.0</td>\n",
       "      <td>2.0</td>\n",
       "      <td>1152.0</td>\n",
       "      <td>Orchard / River Valley (D9)</td>\n",
       "      <td>yes</td>\n",
       "      <td>no</td>\n",
       "    </tr>\n",
       "    <tr>\n",
       "      <th>5</th>\n",
       "      <td>3600.0</td>\n",
       "      <td>2.0</td>\n",
       "      <td>2.0</td>\n",
       "      <td>786.0</td>\n",
       "      <td>East Coast / Marine Parade (D15)</td>\n",
       "      <td>yes</td>\n",
       "      <td>no</td>\n",
       "    </tr>\n",
       "    <tr>\n",
       "      <th>6</th>\n",
       "      <td>4350.0</td>\n",
       "      <td>1.0</td>\n",
       "      <td>1.0</td>\n",
       "      <td>1743.0</td>\n",
       "      <td>East Coast / Marine Parade (D15)</td>\n",
       "      <td>no</td>\n",
       "      <td>yes</td>\n",
       "    </tr>\n",
       "  </tbody>\n",
       "</table>\n",
       "</div>"
      ],
      "text/plain": [
       "   Price per month  Beds  Bathrooms    Size  \\\n",
       "1           3850.0   2.0        2.0   678.0   \n",
       "3           8900.0   4.0        3.0  2615.0   \n",
       "4           7000.0   3.0        2.0  1152.0   \n",
       "5           3600.0   2.0        2.0   786.0   \n",
       "6           4350.0   1.0        1.0  1743.0   \n",
       "\n",
       "                             Location  Gym Swimming Pool  \n",
       "1  Eunos / Geylang / Paya Lebar (D14)   no            no  \n",
       "3               Newton / Novena (D11)  yes           yes  \n",
       "4         Orchard / River Valley (D9)  yes            no  \n",
       "5    East Coast / Marine Parade (D15)  yes            no  \n",
       "6    East Coast / Marine Parade (D15)   no           yes  "
      ]
     },
     "execution_count": 43,
     "metadata": {},
     "output_type": "execute_result"
    }
   ],
   "source": [
    "df.head()"
   ]
  },
  {
   "cell_type": "code",
   "execution_count": 44,
   "metadata": {},
   "outputs": [
    {
     "data": {
      "text/plain": [
       "<seaborn.axisgrid.PairGrid at 0x11659a8d0>"
      ]
     },
     "execution_count": 44,
     "metadata": {},
     "output_type": "execute_result"
    },
    {
     "data": {
      "image/png": "[encoded data removed]",
      "text/plain": [
       "<Figure size 720x720 with 20 Axes>"
      ]
     },
     "metadata": {},
     "output_type": "display_data"
    }
   ],
   "source": [
    "sns.pairplot(df)"
   ]
  },
  {
   "cell_type": "code",
   "execution_count": 45,
   "metadata": {
    "scrolled": true
   },
   "outputs": [
    {
     "data": {
      "text/plain": [
       "<matplotlib.axes._subplots.AxesSubplot at 0x115e466d0>"
      ]
     },
     "execution_count": 45,
     "metadata": {},
     "output_type": "execute_result"
    },
    {
     "data": {
      "image/png": "[encoded data removed]",
      "text/plain": [
       "<Figure size 720x504 with 2 Axes>"
      ]
     },
     "metadata": {},
     "output_type": "display_data"
    }
   ],
   "source": [
    "fig=plt.figure(figsize=(10,7))\n",
    "backgroundcolor='#f6f5f7'\n",
    "fig.patch.set_facecolor(backgroundcolor)\n",
    "sns.heatmap(data=df.corr(),annot=True,cmap='OrRd')"
   ]
  },
  {
   "cell_type": "markdown",
   "metadata": {},
   "source": [
    "#### Number of bathrooms, number of bedrooms and the size of the apartment are highly correlated with each other. This will be taken into consideration during the modelling stage"
   ]
  },
  {
   "cell_type": "markdown",
   "metadata": {},
   "source": [
    "# Modelling"
   ]
  },
  {
   "cell_type": "code",
   "execution_count": 46,
   "metadata": {},
   "outputs": [],
   "source": [
    "df_dum = pd.get_dummies(df) "
   ]
  },
  {
   "cell_type": "code",
   "execution_count": 48,
   "metadata": {},
   "outputs": [],
   "source": [
    "from sklearn.model_selection import train_test_split"
   ]
  },
  {
   "cell_type": "code",
   "execution_count": 49,
   "metadata": {},
   "outputs": [],
   "source": [
    "X= df_dum.drop(\"Price per month\", 1)"
   ]
  },
  {
   "cell_type": "code",
   "execution_count": 50,
   "metadata": {},
   "outputs": [],
   "source": [
    "y = df_dum[\"Price per month\"].values"
   ]
  },
  {
   "cell_type": "code",
   "execution_count": 51,
   "metadata": {},
   "outputs": [],
   "source": [
    "X_train, X_test, y_train, y_test = train_test_split(X,y, test_size = 0.2, random_state = 42)"
   ]
  },
  {
   "cell_type": "code",
   "execution_count": 52,
   "metadata": {},
   "outputs": [],
   "source": [
    "import statsmodels.api as sm"
   ]
  },
  {
   "cell_type": "code",
   "execution_count": 53,
   "metadata": {},
   "outputs": [],
   "source": [
    "X_sm = X = sm.add_constant(X)"
   ]
  },
  {
   "cell_type": "code",
   "execution_count": 54,
   "metadata": {},
   "outputs": [],
   "source": [
    "model1 = sm.OLS(y,X_sm)"
   ]
  },
  {
   "cell_type": "code",
   "execution_count": 55,
   "metadata": {
    "scrolled": true
   },
   "outputs": [
    {
     "data": {
      "text/html": [
       "<table class=\"simpletable\">\n",
       "<caption>OLS Regression Results</caption>\n",
       "<tr>\n",
       "  <th>Dep. Variable:</th>            <td>y</td>        <th>  R-squared:         </th> <td>   0.775</td> \n",
       "</tr>\n",
       "<tr>\n",
       "  <th>Model:</th>                   <td>OLS</td>       <th>  Adj. R-squared:    </th> <td>   0.774</td> \n",
       "</tr>\n",
       "<tr>\n",
       "  <th>Method:</th>             <td>Least Squares</td>  <th>  F-statistic:       </th> <td>   669.9</td> \n",
       "</tr>\n",
       "<tr>\n",
       "  <th>Date:</th>             <td>Thu, 24 Jun 2021</td> <th>  Prob (F-statistic):</th>  <td>  0.00</td>  \n",
       "</tr>\n",
       "<tr>\n",
       "  <th>Time:</th>                 <td>14:18:22</td>     <th>  Log-Likelihood:    </th> <td> -50588.</td> \n",
       "</tr>\n",
       "<tr>\n",
       "  <th>No. Observations:</th>      <td>  6065</td>      <th>  AIC:               </th> <td>1.012e+05</td>\n",
       "</tr>\n",
       "<tr>\n",
       "  <th>Df Residuals:</th>          <td>  6033</td>      <th>  BIC:               </th> <td>1.015e+05</td>\n",
       "</tr>\n",
       "<tr>\n",
       "  <th>Df Model:</th>              <td>    31</td>      <th>                     </th>     <td> </td>    \n",
       "</tr>\n",
       "<tr>\n",
       "  <th>Covariance Type:</th>      <td>nonrobust</td>    <th>                     </th>     <td> </td>    \n",
       "</tr>\n",
       "</table>\n",
       "<table class=\"simpletable\">\n",
       "<tr>\n",
       "                               <td></td>                                 <th>coef</th>     <th>std err</th>      <th>t</th>      <th>P>|t|</th>  <th>[0.025</th>    <th>0.975]</th>  \n",
       "</tr>\n",
       "<tr>\n",
       "  <th>const</th>                                                      <td>  238.0952</td> <td>   20.828</td> <td>   11.432</td> <td> 0.000</td> <td>  197.265</td> <td>  278.925</td>\n",
       "</tr>\n",
       "<tr>\n",
       "  <th>Beds</th>                                                       <td>  262.4665</td> <td>   27.134</td> <td>    9.673</td> <td> 0.000</td> <td>  209.275</td> <td>  315.658</td>\n",
       "</tr>\n",
       "<tr>\n",
       "  <th>Bathrooms</th>                                                  <td>  253.3258</td> <td>   28.756</td> <td>    8.809</td> <td> 0.000</td> <td>  196.953</td> <td>  309.698</td>\n",
       "</tr>\n",
       "<tr>\n",
       "  <th>Size</th>                                                       <td>    2.1758</td> <td>    0.043</td> <td>   50.187</td> <td> 0.000</td> <td>    2.091</td> <td>    2.261</td>\n",
       "</tr>\n",
       "<tr>\n",
       "  <th>Location_Admiralty / Woodlands (D25)</th>                       <td>-1289.6733</td> <td>  166.487</td> <td>   -7.746</td> <td> 0.000</td> <td>-1616.048</td> <td> -963.298</td>\n",
       "</tr>\n",
       "<tr>\n",
       "  <th>Location_Alexandra / Commonwealth (D3)</th>                     <td>  309.1422</td> <td>   64.881</td> <td>    4.765</td> <td> 0.000</td> <td>  181.952</td> <td>  436.333</td>\n",
       "</tr>\n",
       "<tr>\n",
       "  <th>Location_Ang Mo Kio / Bishan / Thomson (D20)</th>               <td> -610.0557</td> <td>   89.182</td> <td>   -6.841</td> <td> 0.000</td> <td> -784.884</td> <td> -435.227</td>\n",
       "</tr>\n",
       "<tr>\n",
       "  <th>Location_Balestier / Toa Payoh (D12)</th>                       <td> -302.3714</td> <td>   97.149</td> <td>   -3.112</td> <td> 0.002</td> <td> -492.818</td> <td> -111.925</td>\n",
       "</tr>\n",
       "<tr>\n",
       "  <th>Location_Beach Road / Bugis / Rochor (D7)</th>                  <td>  630.9011</td> <td>   82.067</td> <td>    7.688</td> <td> 0.000</td> <td>  470.020</td> <td>  791.783</td>\n",
       "</tr>\n",
       "<tr>\n",
       "  <th>Location_Bedok / Upper East Coast (D16)</th>                    <td> -408.1671</td> <td>   85.734</td> <td>   -4.761</td> <td> 0.000</td> <td> -576.236</td> <td> -240.099</td>\n",
       "</tr>\n",
       "<tr>\n",
       "  <th>Location_Boat Quay / Raffles Place / Marina (D1)</th>           <td> 1486.0398</td> <td>   53.912</td> <td>   27.564</td> <td> 0.000</td> <td> 1380.354</td> <td> 1591.726</td>\n",
       "</tr>\n",
       "<tr>\n",
       "  <th>Location_Boon Lay / Jurong / Tuas (D22)</th>                    <td> -529.1355</td> <td>   89.531</td> <td>   -5.910</td> <td> 0.000</td> <td> -704.648</td> <td> -353.623</td>\n",
       "</tr>\n",
       "<tr>\n",
       "  <th>Location_Bukit Batok / Bukit Panjang / Choa Chu Kang (D23)</th> <td> -950.9952</td> <td>   97.112</td> <td>   -9.793</td> <td> 0.000</td> <td>-1141.369</td> <td> -760.621</td>\n",
       "</tr>\n",
       "<tr>\n",
       "  <th>Location_Buona Vista / West Coast / Clementi (D5)</th>          <td>  216.4170</td> <td>   63.248</td> <td>    3.422</td> <td> 0.001</td> <td>   92.428</td> <td>  340.406</td>\n",
       "</tr>\n",
       "<tr>\n",
       "  <th>Location_Changi Airport / Changi Village (D17)</th>             <td>-1164.5361</td> <td>  206.139</td> <td>   -5.649</td> <td> 0.000</td> <td>-1568.643</td> <td> -760.430</td>\n",
       "</tr>\n",
       "<tr>\n",
       "  <th>Location_Chinatown / Tanjong Pagar (D2)</th>                    <td> 1573.4168</td> <td>   56.765</td> <td>   27.718</td> <td> 0.000</td> <td> 1462.136</td> <td> 1684.697</td>\n",
       "</tr>\n",
       "<tr>\n",
       "  <th>Location_City Hall / Clarke Quay (D6)</th>                      <td> 2080.4821</td> <td>  284.889</td> <td>    7.303</td> <td> 0.000</td> <td> 1521.998</td> <td> 2638.966</td>\n",
       "</tr>\n",
       "<tr>\n",
       "  <th>Location_Clementi Park / Upper Bukit Timah (D21)</th>           <td> -470.1219</td> <td>  111.461</td> <td>   -4.218</td> <td> 0.000</td> <td> -688.626</td> <td> -251.618</td>\n",
       "</tr>\n",
       "<tr>\n",
       "  <th>Location_East Coast / Marine Parade (D15)</th>                  <td>   21.0326</td> <td>   51.536</td> <td>    0.408</td> <td> 0.683</td> <td>  -79.995</td> <td>  122.061</td>\n",
       "</tr>\n",
       "<tr>\n",
       "  <th>Location_Eunos / Geylang / Paya Lebar (D14)</th>                <td>  220.9426</td> <td>   66.247</td> <td>    3.335</td> <td> 0.001</td> <td>   91.076</td> <td>  350.810</td>\n",
       "</tr>\n",
       "<tr>\n",
       "  <th>Location_Farrer Park / Serangoon Rd (D8)</th>                   <td>  253.3085</td> <td>  101.500</td> <td>    2.496</td> <td> 0.013</td> <td>   54.331</td> <td>  452.286</td>\n",
       "</tr>\n",
       "<tr>\n",
       "  <th>Location_Harbourfront / Telok Blangah (D4)</th>                 <td>  856.1890</td> <td>   92.532</td> <td>    9.253</td> <td> 0.000</td> <td>  674.793</td> <td> 1037.585</td>\n",
       "</tr>\n",
       "<tr>\n",
       "  <th>Location_Hougang / Punggol / Sengkang (D19)</th>                <td> -679.7397</td> <td>   83.493</td> <td>   -8.141</td> <td> 0.000</td> <td> -843.417</td> <td> -516.063</td>\n",
       "</tr>\n",
       "<tr>\n",
       "  <th>Location_Macpherson / Potong Pasir (D13)</th>                   <td>   12.5791</td> <td>  131.727</td> <td>    0.095</td> <td> 0.924</td> <td> -245.652</td> <td>  270.810</td>\n",
       "</tr>\n",
       "<tr>\n",
       "  <th>Location_Mandai / Upper Thomson (D26)</th>                      <td>-1360.8999</td> <td>  371.351</td> <td>   -3.665</td> <td> 0.000</td> <td>-2088.880</td> <td> -632.920</td>\n",
       "</tr>\n",
       "<tr>\n",
       "  <th>Location_Newton / Novena (D11)</th>                             <td>  490.3927</td> <td>   61.025</td> <td>    8.036</td> <td> 0.000</td> <td>  370.762</td> <td>  610.024</td>\n",
       "</tr>\n",
       "<tr>\n",
       "  <th>Location_Orchard / River Valley (D9)</th>                       <td> 1312.8512</td> <td>   38.294</td> <td>   34.283</td> <td> 0.000</td> <td> 1237.780</td> <td> 1387.922</td>\n",
       "</tr>\n",
       "<tr>\n",
       "  <th>Location_Pasir Ris / Tampines (D18)</th>                        <td> -706.2759</td> <td>   79.148</td> <td>   -8.923</td> <td> 0.000</td> <td> -861.435</td> <td> -551.117</td>\n",
       "</tr>\n",
       "<tr>\n",
       "  <th>Location_Seletar / Yio Chu Kang (D28)</th>                      <td> -782.4852</td> <td>  197.975</td> <td>   -3.952</td> <td> 0.000</td> <td>-1170.586</td> <td> -394.384</td>\n",
       "</tr>\n",
       "<tr>\n",
       "  <th>Location_Sembawang / Yishun (D27)</th>                          <td> -820.7413</td> <td>  128.477</td> <td>   -6.388</td> <td> 0.000</td> <td>-1072.602</td> <td> -568.881</td>\n",
       "</tr>\n",
       "<tr>\n",
       "  <th>Location_Tanglin / Holland (D10)</th>                           <td>  849.5989</td> <td>   50.177</td> <td>   16.932</td> <td> 0.000</td> <td>  751.233</td> <td>  947.965</td>\n",
       "</tr>\n",
       "<tr>\n",
       "  <th>Gym_no</th>                                                     <td> -217.6652</td> <td>   20.868</td> <td>  -10.430</td> <td> 0.000</td> <td> -258.575</td> <td> -176.755</td>\n",
       "</tr>\n",
       "<tr>\n",
       "  <th>Gym_yes</th>                                                    <td>  455.7603</td> <td>   18.661</td> <td>   24.423</td> <td> 0.000</td> <td>  419.178</td> <td>  492.343</td>\n",
       "</tr>\n",
       "<tr>\n",
       "  <th>Swimming Pool_no</th>                                           <td>  201.1915</td> <td>   17.450</td> <td>   11.530</td> <td> 0.000</td> <td>  166.983</td> <td>  235.400</td>\n",
       "</tr>\n",
       "<tr>\n",
       "  <th>Swimming Pool_yes</th>                                          <td>   36.9037</td> <td>   18.968</td> <td>    1.946</td> <td> 0.052</td> <td>   -0.279</td> <td>   74.087</td>\n",
       "</tr>\n",
       "</table>\n",
       "<table class=\"simpletable\">\n",
       "<tr>\n",
       "  <th>Omnibus:</th>       <td>620.078</td> <th>  Durbin-Watson:     </th> <td>   1.940</td>\n",
       "</tr>\n",
       "<tr>\n",
       "  <th>Prob(Omnibus):</th> <td> 0.000</td>  <th>  Jarque-Bera (JB):  </th> <td>1506.688</td>\n",
       "</tr>\n",
       "<tr>\n",
       "  <th>Skew:</th>          <td> 0.604</td>  <th>  Prob(JB):          </th> <td>    0.00</td>\n",
       "</tr>\n",
       "<tr>\n",
       "  <th>Kurtosis:</th>      <td> 5.122</td>  <th>  Cond. No.          </th> <td>2.20e+17</td>\n",
       "</tr>\n",
       "</table><br/><br/>Warnings:<br/>[1] Standard Errors assume that the covariance matrix of the errors is correctly specified.<br/>[2] The smallest eigenvalue is 1.87e-25. This might indicate that there are<br/>strong multicollinearity problems or that the design matrix is singular."
      ],
      "text/plain": [
       "<class 'statsmodels.iolib.summary.Summary'>\n",
       "\"\"\"\n",
       "                            OLS Regression Results                            \n",
       "==============================================================================\n",
       "Dep. Variable:                      y   R-squared:                       0.775\n",
       "Model:                            OLS   Adj. R-squared:                  0.774\n",
       "Method:                 Least Squares   F-statistic:                     669.9\n",
       "Date:                Thu, 24 Jun 2021   Prob (F-statistic):               0.00\n",
       "Time:                        14:18:22   Log-Likelihood:                -50588.\n",
       "No. Observations:                6065   AIC:                         1.012e+05\n",
       "Df Residuals:                    6033   BIC:                         1.015e+05\n",
       "Df Model:                          31                                         \n",
       "Covariance Type:            nonrobust                                         \n",
       "==============================================================================================================================\n",
       "                                                                 coef    std err          t      P>|t|      [0.025      0.975]\n",
       "------------------------------------------------------------------------------------------------------------------------------\n",
       "const                                                        238.0952     20.828     11.432      0.000     197.265     278.925\n",
       "Beds                                                         262.4665     27.134      9.673      0.000     209.275     315.658\n",
       "Bathrooms                                                    253.3258     28.756      8.809      0.000     196.953     309.698\n",
       "Size                                                           2.1758      0.043     50.187      0.000       2.091       2.261\n",
       "Location_Admiralty / Woodlands (D25)                       -1289.6733    166.487     -7.746      0.000   -1616.048    -963.298\n",
       "Location_Alexandra / Commonwealth (D3)                       309.1422     64.881      4.765      0.000     181.952     436.333\n",
       "Location_Ang Mo Kio / Bishan / Thomson (D20)                -610.0557     89.182     -6.841      0.000    -784.884    -435.227\n",
       "Location_Balestier / Toa Payoh (D12)                        -302.3714     97.149     -3.112      0.002    -492.818    -111.925\n",
       "Location_Beach Road / Bugis / Rochor (D7)                    630.9011     82.067      7.688      0.000     470.020     791.783\n",
       "Location_Bedok / Upper East Coast (D16)                     -408.1671     85.734     -4.761      0.000    -576.236    -240.099\n",
       "Location_Boat Quay / Raffles Place / Marina (D1)            1486.0398     53.912     27.564      0.000    1380.354    1591.726\n",
       "Location_Boon Lay / Jurong / Tuas (D22)                     -529.1355     89.531     -5.910      0.000    -704.648    -353.623\n",
       "Location_Bukit Batok / Bukit Panjang / Choa Chu Kang (D23)  -950.9952     97.112     -9.793      0.000   -1141.369    -760.621\n",
       "Location_Buona Vista / West Coast / Clementi (D5)            216.4170     63.248      3.422      0.001      92.428     340.406\n",
       "Location_Changi Airport / Changi Village (D17)             -1164.5361    206.139     -5.649      0.000   -1568.643    -760.430\n",
       "Location_Chinatown / Tanjong Pagar (D2)                     1573.4168     56.765     27.718      0.000    1462.136    1684.697\n",
       "Location_City Hall / Clarke Quay (D6)                       2080.4821    284.889      7.303      0.000    1521.998    2638.966\n",
       "Location_Clementi Park / Upper Bukit Timah (D21)            -470.1219    111.461     -4.218      0.000    -688.626    -251.618\n",
       "Location_East Coast / Marine Parade (D15)                     21.0326     51.536      0.408      0.683     -79.995     122.061\n",
       "Location_Eunos / Geylang / Paya Lebar (D14)                  220.9426     66.247      3.335      0.001      91.076     350.810\n",
       "Location_Farrer Park / Serangoon Rd (D8)                     253.3085    101.500      2.496      0.013      54.331     452.286\n",
       "Location_Harbourfront / Telok Blangah (D4)                   856.1890     92.532      9.253      0.000     674.793    1037.585\n",
       "Location_Hougang / Punggol / Sengkang (D19)                 -679.7397     83.493     -8.141      0.000    -843.417    -516.063\n",
       "Location_Macpherson / Potong Pasir (D13)                      12.5791    131.727      0.095      0.924    -245.652     270.810\n",
       "Location_Mandai / Upper Thomson (D26)                      -1360.8999    371.351     -3.665      0.000   -2088.880    -632.920\n",
       "Location_Newton / Novena (D11)                               490.3927     61.025      8.036      0.000     370.762     610.024\n",
       "Location_Orchard / River Valley (D9)                        1312.8512     38.294     34.283      0.000    1237.780    1387.922\n",
       "Location_Pasir Ris / Tampines (D18)                         -706.2759     79.148     -8.923      0.000    -861.435    -551.117\n",
       "Location_Seletar / Yio Chu Kang (D28)                       -782.4852    197.975     -3.952      0.000   -1170.586    -394.384\n",
       "Location_Sembawang / Yishun (D27)                           -820.7413    128.477     -6.388      0.000   -1072.602    -568.881\n",
       "Location_Tanglin / Holland (D10)                             849.5989     50.177     16.932      0.000     751.233     947.965\n",
       "Gym_no                                                      -217.6652     20.868    -10.430      0.000    -258.575    -176.755\n",
       "Gym_yes                                                      455.7603     18.661     24.423      0.000     419.178     492.343\n",
       "Swimming Pool_no                                             201.1915     17.450     11.530      0.000     166.983     235.400\n",
       "Swimming Pool_yes                                             36.9037     18.968      1.946      0.052      -0.279      74.087\n",
       "==============================================================================\n",
       "Omnibus:                      620.078   Durbin-Watson:                   1.940\n",
       "Prob(Omnibus):                  0.000   Jarque-Bera (JB):             1506.688\n",
       "Skew:                           0.604   Prob(JB):                         0.00\n",
       "Kurtosis:                       5.122   Cond. No.                     2.20e+17\n",
       "==============================================================================\n",
       "\n",
       "Warnings:\n",
       "[1] Standard Errors assume that the covariance matrix of the errors is correctly specified.\n",
       "[2] The smallest eigenvalue is 1.87e-25. This might indicate that there are\n",
       "strong multicollinearity problems or that the design matrix is singular.\n",
       "\"\"\""
      ]
     },
     "execution_count": 55,
     "metadata": {},
     "output_type": "execute_result"
    }
   ],
   "source": [
    "model1.fit().summary()"
   ]
  },
  {
   "cell_type": "code",
   "execution_count": 56,
   "metadata": {},
   "outputs": [],
   "source": [
    "from sklearn.linear_model import LinearRegression, Lasso\n",
    "from sklearn.model_selection import cross_val_score"
   ]
  },
  {
   "cell_type": "markdown",
   "metadata": {},
   "source": [
    "### Multiple Linear Regression"
   ]
  },
  {
   "cell_type": "code",
   "execution_count": 57,
   "metadata": {},
   "outputs": [],
   "source": [
    "lm = LinearRegression()"
   ]
  },
  {
   "cell_type": "code",
   "execution_count": 58,
   "metadata": {},
   "outputs": [
    {
     "data": {
      "text/plain": [
       "-767.6201203577378"
      ]
     },
     "execution_count": 58,
     "metadata": {},
     "output_type": "execute_result"
    }
   ],
   "source": [
    "np.mean(cross_val_score(lm, X_train, y_train, scoring= \"neg_mean_absolute_error\", cv= 5))"
   ]
  },
  {
   "cell_type": "markdown",
   "metadata": {},
   "source": [
    "### Lasso Regression"
   ]
  },
  {
   "cell_type": "code",
   "execution_count": 59,
   "metadata": {},
   "outputs": [],
   "source": [
    "lm_lasso = Lasso()"
   ]
  },
  {
   "cell_type": "code",
   "execution_count": 60,
   "metadata": {},
   "outputs": [
    {
     "data": {
      "text/plain": [
       "-766.5673688364935"
      ]
     },
     "execution_count": 60,
     "metadata": {},
     "output_type": "execute_result"
    }
   ],
   "source": [
    "np.mean(cross_val_score(lm_lasso, X_train, y_train, scoring= \"neg_mean_absolute_error\", cv= 5))"
   ]
  },
  {
   "cell_type": "code",
   "execution_count": 61,
   "metadata": {},
   "outputs": [],
   "source": [
    "alpha = []\n",
    "error = []"
   ]
  },
  {
   "cell_type": "code",
   "execution_count": null,
   "metadata": {},
   "outputs": [],
   "source": [
    "for i in range(1,1000):\n",
    "    alpha.append(i/100)\n",
    "    lm_las = Lasso(alpha = (i/100))\n",
    "    error.append(np.mean(cross_val_score(lm_las, X_train, y_train, scoring= \"neg_mean_absolute_error\", cv= 5)))"
   ]
  },
  {
   "cell_type": "code",
   "execution_count": 63,
   "metadata": {},
   "outputs": [
    {
     "data": {
      "text/plain": [
       "[<matplotlib.lines.Line2D at 0x1a387a7110>]"
      ]
     },
     "execution_count": 63,
     "metadata": {},
     "output_type": "execute_result"
    },
    {
     "data": {
      "image/png": "[encoded data removed]",
      "text/plain": [
       "<Figure size 432x288 with 1 Axes>"
      ]
     },
     "metadata": {},
     "output_type": "display_data"
    }
   ],
   "source": [
    "plt.plot(alpha,error)"
   ]
  },
  {
   "cell_type": "code",
   "execution_count": 64,
   "metadata": {},
   "outputs": [],
   "source": [
    "err = tuple(zip(alpha, error))"
   ]
  },
  {
   "cell_type": "code",
   "execution_count": 65,
   "metadata": {},
   "outputs": [],
   "source": [
    "df_lasso_error = pd.DataFrame(err, columns = [\"alpha\",\"error\"])"
   ]
  },
  {
   "cell_type": "code",
   "execution_count": 66,
   "metadata": {},
   "outputs": [
    {
     "data": {
      "text/html": [
       "<div>\n",
       "<style scoped>\n",
       "    .dataframe tbody tr th:only-of-type {\n",
       "        vertical-align: middle;\n",
       "    }\n",
       "\n",
       "    .dataframe tbody tr th {\n",
       "        vertical-align: top;\n",
       "    }\n",
       "\n",
       "    .dataframe thead th {\n",
       "        text-align: right;\n",
       "    }\n",
       "</style>\n",
       "<table border=\"1\" class=\"dataframe\">\n",
       "  <thead>\n",
       "    <tr style=\"text-align: right;\">\n",
       "      <th></th>\n",
       "      <th>alpha</th>\n",
       "      <th>error</th>\n",
       "    </tr>\n",
       "  </thead>\n",
       "  <tbody>\n",
       "    <tr>\n",
       "      <th>65</th>\n",
       "      <td>0.66</td>\n",
       "      <td>-766.469511</td>\n",
       "    </tr>\n",
       "  </tbody>\n",
       "</table>\n",
       "</div>"
      ],
      "text/plain": [
       "    alpha       error\n",
       "65   0.66 -766.469511"
      ]
     },
     "execution_count": 66,
     "metadata": {},
     "output_type": "execute_result"
    }
   ],
   "source": [
    "df_lasso_error[df_lasso_error.error == max(df_lasso_error.error)]"
   ]
  },
  {
   "cell_type": "code",
   "execution_count": 67,
   "metadata": {},
   "outputs": [],
   "source": [
    "#Alpha = 35.68"
   ]
  },
  {
   "cell_type": "markdown",
   "metadata": {},
   "source": [
    "### Random Forests"
   ]
  },
  {
   "cell_type": "code",
   "execution_count": 68,
   "metadata": {},
   "outputs": [],
   "source": [
    "from sklearn.ensemble import RandomForestRegressor"
   ]
  },
  {
   "cell_type": "code",
   "execution_count": 69,
   "metadata": {},
   "outputs": [],
   "source": [
    "rf =  RandomForestRegressor()"
   ]
  },
  {
   "cell_type": "code",
   "execution_count": 70,
   "metadata": {},
   "outputs": [
    {
     "data": {
      "text/plain": [
       "-413.6012803913046"
      ]
     },
     "execution_count": 70,
     "metadata": {},
     "output_type": "execute_result"
    }
   ],
   "source": [
    "np.mean(cross_val_score(rf, X_train, y_train, scoring =\"neg_mean_absolute_error\", cv= 5))"
   ]
  },
  {
   "cell_type": "code",
   "execution_count": 71,
   "metadata": {},
   "outputs": [],
   "source": [
    "from sklearn.model_selection import GridSearchCV"
   ]
  },
  {
   "cell_type": "code",
   "execution_count": 72,
   "metadata": {},
   "outputs": [],
   "source": [
    "parameters = {\"n_estimators\":[50,100,200,300,500],'criterion':['mae'],'max_features':['auto','sqrt','log2']}"
   ]
  },
  {
   "cell_type": "code",
   "execution_count": 73,
   "metadata": {},
   "outputs": [],
   "source": [
    "gs  = GridSearchCV(rf, parameters, scoring = \"neg_mean_absolute_error\", cv = 3)"
   ]
  },
  {
   "cell_type": "code",
   "execution_count": 74,
   "metadata": {},
   "outputs": [
    {
     "data": {
      "text/plain": [
       "GridSearchCV(cv=3, estimator=RandomForestRegressor(),\n",
       "             param_grid={'criterion': ['mae'],\n",
       "                         'max_features': ['auto', 'sqrt', 'log2'],\n",
       "                         'n_estimators': [50, 100, 200, 300, 500]},\n",
       "             scoring='neg_mean_absolute_error')"
      ]
     },
     "execution_count": 74,
     "metadata": {},
     "output_type": "execute_result"
    }
   ],
   "source": [
    "gs.fit(X_train, y_train)"
   ]
  },
  {
   "cell_type": "code",
   "execution_count": 75,
   "metadata": {},
   "outputs": [
    {
     "data": {
      "text/plain": [
       "(-424.0643216105711,\n",
       " {'criterion': 'mae', 'max_features': 'auto', 'n_estimators': 500})"
      ]
     },
     "execution_count": 75,
     "metadata": {},
     "output_type": "execute_result"
    }
   ],
   "source": [
    "gs.best_score_ ,gs.best_params_\n",
    "\n"
   ]
  },
  {
   "cell_type": "code",
   "execution_count": 76,
   "metadata": {},
   "outputs": [
    {
     "data": {
      "text/plain": [
       "RandomForestRegressor(criterion='mae', n_estimators=500)"
      ]
     },
     "execution_count": 76,
     "metadata": {},
     "output_type": "execute_result"
    }
   ],
   "source": [
    "gs.best_estimator_"
   ]
  },
  {
   "cell_type": "markdown",
   "metadata": {},
   "source": [
    "### Testing the final models"
   ]
  },
  {
   "cell_type": "code",
   "execution_count": 77,
   "metadata": {},
   "outputs": [],
   "source": [
    "lm = lm.fit(X_train, y_train)\n",
    "lm_pred = lm.predict(X_test)"
   ]
  },
  {
   "cell_type": "code",
   "execution_count": 78,
   "metadata": {},
   "outputs": [],
   "source": [
    "lm_lasso = Lasso(alpha = 35.68)\n",
    "lm_lasso.fit(X_train, y_train)\n",
    "lm_lasso_pred = lm_lasso.predict(X_test)"
   ]
  },
  {
   "cell_type": "code",
   "execution_count": 79,
   "metadata": {},
   "outputs": [],
   "source": [
    "lm_lasso2 = Lasso(alpha = 0.7)\n",
    "lm_lasso2.fit(X_train, y_train)\n",
    "lm_lasso2_pred = lm_lasso2.predict(X_test)"
   ]
  },
  {
   "cell_type": "code",
   "execution_count": 80,
   "metadata": {},
   "outputs": [],
   "source": [
    "rf = RandomForestRegressor(n_estimators =500 , criterion =\"mae\" , max_features = \"auto\")\n",
    "rf.fit(X_train, y_train)\n",
    "rf_pred = rf.predict(X_test)"
   ]
  },
  {
   "cell_type": "code",
   "execution_count": 81,
   "metadata": {},
   "outputs": [],
   "source": [
    "from sklearn.metrics import mean_absolute_error"
   ]
  },
  {
   "cell_type": "code",
   "execution_count": 82,
   "metadata": {},
   "outputs": [
    {
     "data": {
      "text/plain": [
       "762.6485771528695"
      ]
     },
     "execution_count": 82,
     "metadata": {},
     "output_type": "execute_result"
    }
   ],
   "source": [
    "mean_absolute_error(y_test,lm_pred)"
   ]
  },
  {
   "cell_type": "code",
   "execution_count": 83,
   "metadata": {},
   "outputs": [
    {
     "data": {
      "text/plain": [
       "827.9334659590787"
      ]
     },
     "execution_count": 83,
     "metadata": {},
     "output_type": "execute_result"
    }
   ],
   "source": [
    "mean_absolute_error(y_test,lm_lasso_pred)"
   ]
  },
  {
   "cell_type": "code",
   "execution_count": 84,
   "metadata": {},
   "outputs": [
    {
     "data": {
      "text/plain": [
       "403.69140560593576"
      ]
     },
     "execution_count": 84,
     "metadata": {},
     "output_type": "execute_result"
    }
   ],
   "source": [
    "mean_absolute_error(y_test,rf_pred)"
   ]
  },
  {
   "cell_type": "code",
   "execution_count": 85,
   "metadata": {},
   "outputs": [
    {
     "data": {
      "text/plain": [
       "760.4625817616804"
      ]
     },
     "execution_count": 85,
     "metadata": {},
     "output_type": "execute_result"
    }
   ],
   "source": [
    "mean_absolute_error(y_test,lm_lasso2_pred)"
   ]
  },
  {
   "cell_type": "markdown",
   "metadata": {},
   "source": [
    "#### The Random Forest Regressor tuned using GridSearchCV produces the best test results. This will be the final model"
   ]
  },
  {
   "cell_type": "code",
   "execution_count": 86,
   "metadata": {},
   "outputs": [],
   "source": [
    "import pickle"
   ]
  },
  {
   "cell_type": "code",
   "execution_count": 87,
   "metadata": {},
   "outputs": [],
   "source": [
    "filename = 'finalized_model.sav'\n",
    "pickle.dump(rf, open(filename, 'wb'))"
   ]
  }
 ],
 "metadata": {
  "kernelspec": {
   "display_name": "Python 3",
   "language": "python",
   "name": "python3"
  },
  "language_info": {
   "codemirror_mode": {
    "name": "ipython",
    "version": 3
   },
   "file_extension": ".py",
   "mimetype": "text/x-python",
   "name": "python",
   "nbconvert_exporter": "python",
   "pygments_lexer": "ipython3",
   "version": "3.7.6"
  }
 },
 "nbformat": 4,
 "nbformat_minor": 4
}
